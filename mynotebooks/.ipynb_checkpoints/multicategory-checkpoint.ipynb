{
 "cells": [
  {
   "cell_type": "markdown",
   "id": "f76f8e59-89c5-42b7-9a33-b771b56ce3d4",
   "metadata": {},
   "source": [
    "# Multi Category Classification"
   ]
  },
  {
   "cell_type": "code",
   "execution_count": 1,
   "id": "61212856-8d9e-4312-bb45-3d20e277532a",
   "metadata": {},
   "outputs": [],
   "source": [
    "#hide\n",
    "! [ -e /content ] && pip install -Uqq fastbook\n",
    "import fastbook\n",
    "fastbook.setup_book()"
   ]
  },
  {
   "cell_type": "code",
   "execution_count": 2,
   "id": "e3770a79-e5a6-4805-be66-1cd2a3de2862",
   "metadata": {},
   "outputs": [],
   "source": [
    "#hide\n",
    "from fastbook import *"
   ]
  },
  {
   "cell_type": "markdown",
   "id": "59068750-743e-4632-b982-3e707f2c956d",
   "metadata": {},
   "source": [
    "## Get and extract the data"
   ]
  },
  {
   "cell_type": "code",
   "execution_count": 3,
   "id": "cdc7a368-17b4-4d18-a0e7-b106766ab288",
   "metadata": {},
   "outputs": [
    {
     "data": {
      "text/plain": [
       "\u001b[0;31mType:\u001b[0m        str\n",
       "\u001b[0;31mString form:\u001b[0m https://s3.amazonaws.com/fast-ai-imageclas/mnist_png.tgz\n",
       "\u001b[0;31mLength:\u001b[0m      56\n",
       "\u001b[0;31mDocstring:\u001b[0m  \n",
       "str(object='') -> str\n",
       "str(bytes_or_buffer[, encoding[, errors]]) -> str\n",
       "\n",
       "Create a new string object from the given object. If encoding or\n",
       "errors is specified, then the object must expose a data buffer\n",
       "that will be decoded using the given encoding and error handler.\n",
       "Otherwise, returns the result of object.__str__() (if defined)\n",
       "or repr(object).\n",
       "encoding defaults to sys.getdefaultencoding().\n",
       "errors defaults to 'strict'.\n"
      ]
     },
     "metadata": {},
     "output_type": "display_data"
    }
   ],
   "source": [
    "?URLs.MNIST"
   ]
  },
  {
   "cell_type": "code",
   "execution_count": 4,
   "id": "7b3f7467-d45f-4119-8b88-e992636252d3",
   "metadata": {},
   "outputs": [
    {
     "data": {
      "text/plain": [
       "\u001b[0;31mSignature:\u001b[0m\n",
       "\u001b[0muntar_data\u001b[0m\u001b[0;34m(\u001b[0m\u001b[0;34m\u001b[0m\n",
       "\u001b[0;34m\u001b[0m    \u001b[0murl\u001b[0m\u001b[0;34m:\u001b[0m \u001b[0;34m'str'\u001b[0m\u001b[0;34m,\u001b[0m\u001b[0;34m\u001b[0m\n",
       "\u001b[0;34m\u001b[0m    \u001b[0marchive\u001b[0m\u001b[0;34m:\u001b[0m \u001b[0;34m'Path'\u001b[0m \u001b[0;34m=\u001b[0m \u001b[0;32mNone\u001b[0m\u001b[0;34m,\u001b[0m\u001b[0;34m\u001b[0m\n",
       "\u001b[0;34m\u001b[0m    \u001b[0mdata\u001b[0m\u001b[0;34m:\u001b[0m \u001b[0;34m'Path'\u001b[0m \u001b[0;34m=\u001b[0m \u001b[0;32mNone\u001b[0m\u001b[0;34m,\u001b[0m\u001b[0;34m\u001b[0m\n",
       "\u001b[0;34m\u001b[0m    \u001b[0mc_key\u001b[0m\u001b[0;34m:\u001b[0m \u001b[0;34m'str'\u001b[0m \u001b[0;34m=\u001b[0m \u001b[0;34m'data'\u001b[0m\u001b[0;34m,\u001b[0m\u001b[0;34m\u001b[0m\n",
       "\u001b[0;34m\u001b[0m    \u001b[0mforce_download\u001b[0m\u001b[0;34m:\u001b[0m \u001b[0;34m'bool'\u001b[0m \u001b[0;34m=\u001b[0m \u001b[0;32mFalse\u001b[0m\u001b[0;34m,\u001b[0m\u001b[0;34m\u001b[0m\n",
       "\u001b[0;34m\u001b[0m    \u001b[0mbase\u001b[0m\u001b[0;34m:\u001b[0m \u001b[0;34m'str'\u001b[0m \u001b[0;34m=\u001b[0m \u001b[0;34m'~/.fastai'\u001b[0m\u001b[0;34m,\u001b[0m\u001b[0;34m\u001b[0m\n",
       "\u001b[0;34m\u001b[0m\u001b[0;34m)\u001b[0m \u001b[0;34m->\u001b[0m \u001b[0;34m'Path'\u001b[0m\u001b[0;34m\u001b[0m\u001b[0;34m\u001b[0m\u001b[0m\n",
       "\u001b[0;31mDocstring:\u001b[0m Download `url` using `FastDownload.get`\n",
       "\u001b[0;31mFile:\u001b[0m      /anaconda/envs/fastai2/lib/python3.7/site-packages/fastai/data/external.py\n",
       "\u001b[0;31mType:\u001b[0m      function\n"
      ]
     },
     "metadata": {},
     "output_type": "display_data"
    }
   ],
   "source": [
    "?untar_data"
   ]
  },
  {
   "cell_type": "code",
   "execution_count": 5,
   "id": "4552f34d-f2c7-4b2b-8b07-81197213b76a",
   "metadata": {},
   "outputs": [],
   "source": [
    "path = untar_data(URLs.MNIST)"
   ]
  },
  {
   "cell_type": "code",
   "execution_count": 6,
   "id": "ca2e7b24-e954-480f-8543-723afa1b2874",
   "metadata": {},
   "outputs": [
    {
     "data": {
      "text/plain": [
       "Path('/home/fastuser/.fastai/data/mnist_png')"
      ]
     },
     "execution_count": 6,
     "metadata": {},
     "output_type": "execute_result"
    }
   ],
   "source": [
    "path"
   ]
  },
  {
   "cell_type": "code",
   "execution_count": 7,
   "id": "73134ca8-b107-46ca-92f9-3fd7717d6b0d",
   "metadata": {},
   "outputs": [
    {
     "name": "stdout",
     "output_type": "stream",
     "text": [
      "total 8\n",
      "drwxr-x--- 12 fastuser fastuser 4096 Dec 11  2015 testing\n",
      "drwxr-x--- 12 fastuser fastuser 4096 Dec 11  2015 training\n"
     ]
    }
   ],
   "source": [
    "!ls -l ~/.fastai/data/mnist_png"
   ]
  },
  {
   "cell_type": "code",
   "execution_count": 8,
   "id": "3130a3a6-0d0a-4654-84a4-9b29cf8d8512",
   "metadata": {},
   "outputs": [
    {
     "data": {
      "text/plain": [
       "(#10) [Path('/home/fastuser/.fastai/data/mnist_png/training/3'),Path('/home/fastuser/.fastai/data/mnist_png/training/7'),Path('/home/fastuser/.fastai/data/mnist_png/training/9'),Path('/home/fastuser/.fastai/data/mnist_png/training/1'),Path('/home/fastuser/.fastai/data/mnist_png/training/4'),Path('/home/fastuser/.fastai/data/mnist_png/training/2'),Path('/home/fastuser/.fastai/data/mnist_png/training/5'),Path('/home/fastuser/.fastai/data/mnist_png/training/0'),Path('/home/fastuser/.fastai/data/mnist_png/training/8'),Path('/home/fastuser/.fastai/data/mnist_png/training/6')]"
      ]
     },
     "execution_count": 8,
     "metadata": {},
     "output_type": "execute_result"
    }
   ],
   "source": [
    "(path/'training').ls()"
   ]
  },
  {
   "cell_type": "code",
   "execution_count": 9,
   "id": "cea01577-8c55-4f3e-a408-0aeb5f5f6534",
   "metadata": {},
   "outputs": [
    {
     "data": {
      "text/plain": [
       "(#6131) [Path('/home/fastuser/.fastai/data/mnist_png/training/3/10.png'),Path('/home/fastuser/.fastai/data/mnist_png/training/3/10000.png'),Path('/home/fastuser/.fastai/data/mnist_png/training/3/10011.png'),Path('/home/fastuser/.fastai/data/mnist_png/training/3/10031.png'),Path('/home/fastuser/.fastai/data/mnist_png/training/3/10034.png'),Path('/home/fastuser/.fastai/data/mnist_png/training/3/10042.png'),Path('/home/fastuser/.fastai/data/mnist_png/training/3/10052.png'),Path('/home/fastuser/.fastai/data/mnist_png/training/3/1007.png'),Path('/home/fastuser/.fastai/data/mnist_png/training/3/10074.png'),Path('/home/fastuser/.fastai/data/mnist_png/training/3/10091.png')...]"
      ]
     },
     "execution_count": 9,
     "metadata": {},
     "output_type": "execute_result"
    }
   ],
   "source": [
    "threes = (path/'training'/'3').ls().sorted()\n",
    "sevens = (path/'training'/'7').ls().sorted()\n",
    "threes"
   ]
  },
  {
   "cell_type": "code",
   "execution_count": 10,
   "id": "6e7a7b53-861f-4b94-a09f-abf7d38b12c0",
   "metadata": {},
   "outputs": [
    {
     "data": {
      "text/plain": [
       "\u001b[0;31mInit signature:\u001b[0m \u001b[0mrange\u001b[0m\u001b[0;34m(\u001b[0m\u001b[0mself\u001b[0m\u001b[0;34m,\u001b[0m \u001b[0;34m/\u001b[0m\u001b[0;34m,\u001b[0m \u001b[0;34m*\u001b[0m\u001b[0margs\u001b[0m\u001b[0;34m,\u001b[0m \u001b[0;34m**\u001b[0m\u001b[0mkwargs\u001b[0m\u001b[0;34m)\u001b[0m\u001b[0;34m\u001b[0m\u001b[0;34m\u001b[0m\u001b[0m\n",
       "\u001b[0;31mDocstring:\u001b[0m     \n",
       "range(stop) -> range object\n",
       "range(start, stop[, step]) -> range object\n",
       "\n",
       "Return an object that produces a sequence of integers from start (inclusive)\n",
       "to stop (exclusive) by step.  range(i, j) produces i, i+1, i+2, ..., j-1.\n",
       "start defaults to 0, and stop is omitted!  range(4) produces 0, 1, 2, 3.\n",
       "These are exactly the valid indices for a list of 4 elements.\n",
       "When step is given, it specifies the increment (or decrement).\n",
       "\u001b[0;31mType:\u001b[0m           type\n",
       "\u001b[0;31mSubclasses:\u001b[0m     \n"
      ]
     },
     "metadata": {},
     "output_type": "display_data"
    }
   ],
   "source": [
    "?range"
   ]
  },
  {
   "cell_type": "code",
   "execution_count": 11,
   "id": "a8354a04-f06b-494e-92a4-b64317951989",
   "metadata": {},
   "outputs": [
    {
     "data": {
      "text/plain": [
       "\u001b[0;31mInit signature:\u001b[0m \u001b[0mstr\u001b[0m\u001b[0;34m(\u001b[0m\u001b[0mself\u001b[0m\u001b[0;34m,\u001b[0m \u001b[0;34m/\u001b[0m\u001b[0;34m,\u001b[0m \u001b[0;34m*\u001b[0m\u001b[0margs\u001b[0m\u001b[0;34m,\u001b[0m \u001b[0;34m**\u001b[0m\u001b[0mkwargs\u001b[0m\u001b[0;34m)\u001b[0m\u001b[0;34m\u001b[0m\u001b[0;34m\u001b[0m\u001b[0m\n",
       "\u001b[0;31mDocstring:\u001b[0m     \n",
       "str(object='') -> str\n",
       "str(bytes_or_buffer[, encoding[, errors]]) -> str\n",
       "\n",
       "Create a new string object from the given object. If encoding or\n",
       "errors is specified, then the object must expose a data buffer\n",
       "that will be decoded using the given encoding and error handler.\n",
       "Otherwise, returns the result of object.__str__() (if defined)\n",
       "or repr(object).\n",
       "encoding defaults to sys.getdefaultencoding().\n",
       "errors defaults to 'strict'.\n",
       "\u001b[0;31mType:\u001b[0m           type\n",
       "\u001b[0;31mSubclasses:\u001b[0m     DeferredConfigString, _rstr, LSString, include, Keys, InputMode, ColorDepth, CompleteStyle, SortKey, FoldedCase, ...\n"
      ]
     },
     "metadata": {},
     "output_type": "display_data"
    }
   ],
   "source": [
    "?str"
   ]
  },
  {
   "cell_type": "markdown",
   "id": "d0ac5712-ce47-492d-bb55-5c353467eb48",
   "metadata": {},
   "source": [
    "We want all of the digits, not just 3s and 7s..."
   ]
  },
  {
   "cell_type": "code",
   "execution_count": 12,
   "id": "dba535b0-c052-4728-9afc-4f96a59fb8cb",
   "metadata": {},
   "outputs": [],
   "source": [
    "digit_paths = [ \n",
    "    (path/'training'/str(digit)).ls().sorted()\n",
    "    for digit in range(10)]"
   ]
  },
  {
   "cell_type": "code",
   "execution_count": 13,
   "id": "b6119488-3d2a-4ce0-a2cf-1100d94d4365",
   "metadata": {},
   "outputs": [
    {
     "data": {
      "text/plain": [
       "(#6742) [Path('/home/fastuser/.fastai/data/mnist_png/training/1/10006.png'),Path('/home/fastuser/.fastai/data/mnist_png/training/1/10007.png'),Path('/home/fastuser/.fastai/data/mnist_png/training/1/1002.png'),Path('/home/fastuser/.fastai/data/mnist_png/training/1/10020.png'),Path('/home/fastuser/.fastai/data/mnist_png/training/1/10027.png'),Path('/home/fastuser/.fastai/data/mnist_png/training/1/1003.png'),Path('/home/fastuser/.fastai/data/mnist_png/training/1/10040.png'),Path('/home/fastuser/.fastai/data/mnist_png/training/1/10048.png'),Path('/home/fastuser/.fastai/data/mnist_png/training/1/10058.png'),Path('/home/fastuser/.fastai/data/mnist_png/training/1/10067.png')...]"
      ]
     },
     "execution_count": 13,
     "metadata": {},
     "output_type": "execute_result"
    }
   ],
   "source": [
    "digit_paths[1]"
   ]
  },
  {
   "cell_type": "markdown",
   "id": "e96d27fe-a0a5-4789-8cf4-20be88556e10",
   "metadata": {},
   "source": [
    "Need a tensor to hold the actual images"
   ]
  },
  {
   "cell_type": "code",
   "execution_count": 14,
   "id": "74e027f1-2abc-4dda-91c5-2a0889e3b263",
   "metadata": {},
   "outputs": [
    {
     "data": {
      "image/png": "[encoded data removed]",
      "text/plain": [
       "<PIL.PngImagePlugin.PngImageFile image mode=L size=28x28>"
      ]
     },
     "execution_count": 14,
     "metadata": {},
     "output_type": "execute_result"
    }
   ],
   "source": [
    "im0_path = digit_paths[0][0]\n",
    "im0 = Image.open(im0_path)\n",
    "im0"
   ]
  },
  {
   "cell_type": "code",
   "execution_count": 15,
   "id": "0db85b32-2fc2-47fb-a604-fb066fb2f34e",
   "metadata": {},
   "outputs": [
    {
     "data": {
      "text/plain": [
       "tensor([[  0,   0,   0,   0,   0,   0,   0,  54, 227, 253, 252, 239, 233, 252],\n",
       "        [  0,   0,   0,   0,   0,  10,  60, 224, 252, 253, 252, 202,  84, 252],\n",
       "        [  0,   0,   0,   0,   0, 163, 252, 252, 252, 253, 252, 252,  96, 189],\n",
       "        [  0,   0,   0,   0,  51, 238, 253, 253, 190, 114, 253, 228,  47,  79],\n",
       "        [  0,   0,   0,  48, 238, 252, 252, 179,  12,  75, 121,  21,   0,   0],\n",
       "        [  0,   0,  38, 165, 253, 233, 208,  84,   0,   0,   0,   0,   0,   0],\n",
       "        [  0,   7, 178, 252, 240,  71,  19,  28,   0,   0,   0,   0,   0,   0],\n",
       "        [  0,  57, 252, 252,  63,   0,   0,   0,   0,   0,   0,   0,   0,   0],\n",
       "        [  0, 198, 253, 190,   0,   0,   0,   0,   0,   0,   0,   0,   0,   0],\n",
       "        [ 76, 246, 252, 112,   0,   0,   0,   0,   0,   0,   0,   0,   0,   0],\n",
       "        [ 85, 252, 230,  25,   0,   0,   0,   0,   0,   0,   0,   0,   7, 135],\n",
       "        [ 85, 252, 223,   0,   0,   0,   0,   0,   0,   0,   0,   7, 131, 252],\n",
       "        [ 85, 252, 145,   0,   0,   0,   0,   0,   0,   0,  48, 165, 252, 173],\n",
       "        [ 86, 253, 225,   0,   0,   0,   0,   0,   0, 114, 238, 253, 162,   0],\n",
       "        [ 85, 252, 249, 146,  48,  29,  85, 178, 225, 253, 223, 167,  56,   0],\n",
       "        [ 85, 252, 252, 252, 229, 215, 252, 252, 252, 196, 130,   0,   0,   0],\n",
       "        [ 28, 199, 252, 252, 253, 252, 252, 233, 145,   0,   0,   0,   0,   0],\n",
       "        [  0,  25, 128, 252, 253, 252, 141,  37,   0,   0,   0,   0,   0,   0],\n",
       "        [  0,   0,   0,   0,   0,   0,   0,   0,   0,   0,   0,   0,   0,   0],\n",
       "        [  0,   0,   0,   0,   0,   0,   0,   0,   0,   0,   0,   0,   0,   0],\n",
       "        [  0,   0,   0,   0,   0,   0,   0,   0,   0,   0,   0,   0,   0,   0],\n",
       "        [  0,   0,   0,   0,   0,   0,   0,   0,   0,   0,   0,   0,   0,   0]], dtype=torch.uint8)"
      ]
     },
     "execution_count": 15,
     "metadata": {},
     "output_type": "execute_result"
    }
   ],
   "source": [
    "tensor(im0)[6:30,6:20]"
   ]
  },
  {
   "cell_type": "markdown",
   "id": "b1437a8a-c0dd-43d4-afc5-365d04821514",
   "metadata": {},
   "source": [
    "Make it look a bit prettier with a pandas DataFrame"
   ]
  },
  {
   "cell_type": "markdown",
   "id": "45018788-6332-49b9-a1be-ebdd5ac5b1e3",
   "metadata": {
    "tags": []
   },
   "source": [
    "### pandas.DataFrame\n",
    "class pandas.DataFrame(data=None, index=None, columns=None, dtype=None, copy=None)[source]\n",
    "Two-dimensional, size-mutable, potentially heterogeneous tabular data.\n",
    "\n",
    "Data structure also contains labeled axes (rows and columns). Arithmetic operations align on both row and column labels. Can be thought of as a dict-like container for Series objects. The primary pandas data structure."
   ]
  },
  {
   "cell_type": "code",
   "execution_count": 16,
   "id": "fbf7f9a0-bd0f-459c-b190-9cf516aac1f6",
   "metadata": {},
   "outputs": [
    {
     "data": {
      "text/html": [
       "<style type=\"text/css\">\n",
       "#T_66992_row0_col0, #T_66992_row0_col1, #T_66992_row0_col2, #T_66992_row0_col3, #T_66992_row0_col4, #T_66992_row0_col5, #T_66992_row0_col6, #T_66992_row1_col0, #T_66992_row1_col1, #T_66992_row1_col2, #T_66992_row1_col3, #T_66992_row1_col4, #T_66992_row2_col0, #T_66992_row2_col1, #T_66992_row2_col2, #T_66992_row2_col3, #T_66992_row2_col4, #T_66992_row3_col0, #T_66992_row3_col1, #T_66992_row3_col2, #T_66992_row3_col3, #T_66992_row4_col0, #T_66992_row4_col1, #T_66992_row4_col2, #T_66992_row4_col12, #T_66992_row4_col13, #T_66992_row5_col0, #T_66992_row5_col1, #T_66992_row5_col8, #T_66992_row5_col9, #T_66992_row5_col10, #T_66992_row5_col11, #T_66992_row5_col12, #T_66992_row5_col13, #T_66992_row6_col0, #T_66992_row6_col8, #T_66992_row6_col9, #T_66992_row6_col10, #T_66992_row6_col11, #T_66992_row6_col12, #T_66992_row6_col13, #T_66992_row7_col0, #T_66992_row7_col5, #T_66992_row7_col6, #T_66992_row7_col7, #T_66992_row7_col8, #T_66992_row7_col9, #T_66992_row7_col10, #T_66992_row7_col11, #T_66992_row7_col12, #T_66992_row7_col13, #T_66992_row8_col0, #T_66992_row8_col4, #T_66992_row8_col5, #T_66992_row8_col6, #T_66992_row8_col7, #T_66992_row8_col8, #T_66992_row8_col9, #T_66992_row8_col10, #T_66992_row8_col11, #T_66992_row8_col12, #T_66992_row8_col13, #T_66992_row9_col4, #T_66992_row9_col5, #T_66992_row9_col6, #T_66992_row9_col7, #T_66992_row9_col8, #T_66992_row9_col9, #T_66992_row9_col10, #T_66992_row9_col11, #T_66992_row9_col12, #T_66992_row9_col13, #T_66992_row10_col4, #T_66992_row10_col5, #T_66992_row10_col6, #T_66992_row10_col7, #T_66992_row10_col8, #T_66992_row10_col9, #T_66992_row10_col10, #T_66992_row10_col11, #T_66992_row11_col3, #T_66992_row11_col4, #T_66992_row11_col5, #T_66992_row11_col6, #T_66992_row11_col7, #T_66992_row11_col8, #T_66992_row11_col9, #T_66992_row11_col10, #T_66992_row12_col3, #T_66992_row12_col4, #T_66992_row12_col5, #T_66992_row12_col6, #T_66992_row12_col7, #T_66992_row12_col8, #T_66992_row12_col9, #T_66992_row13_col3, #T_66992_row13_col4, #T_66992_row13_col5, #T_66992_row13_col6, #T_66992_row13_col7, #T_66992_row13_col8, #T_66992_row13_col13, #T_66992_row14_col13, #T_66992_row15_col11, #T_66992_row15_col12, #T_66992_row15_col13, #T_66992_row16_col9, #T_66992_row16_col10, #T_66992_row16_col11, #T_66992_row16_col12, #T_66992_row16_col13, #T_66992_row17_col0, #T_66992_row17_col8, #T_66992_row17_col9, #T_66992_row17_col10, #T_66992_row17_col11, #T_66992_row17_col12, #T_66992_row17_col13, #T_66992_row18_col0, #T_66992_row18_col1, #T_66992_row18_col2, #T_66992_row18_col3, #T_66992_row18_col4, #T_66992_row18_col5, #T_66992_row18_col6, #T_66992_row18_col7, #T_66992_row18_col8, #T_66992_row18_col9, #T_66992_row18_col10, #T_66992_row18_col11, #T_66992_row18_col12, #T_66992_row18_col13, #T_66992_row19_col0, #T_66992_row19_col1, #T_66992_row19_col2, #T_66992_row19_col3, #T_66992_row19_col4, #T_66992_row19_col5, #T_66992_row19_col6, #T_66992_row19_col7, #T_66992_row19_col8, #T_66992_row19_col9, #T_66992_row19_col10, #T_66992_row19_col11, #T_66992_row19_col12, #T_66992_row19_col13, #T_66992_row20_col0, #T_66992_row20_col1, #T_66992_row20_col2, #T_66992_row20_col3, #T_66992_row20_col4, #T_66992_row20_col5, #T_66992_row20_col6, #T_66992_row20_col7, #T_66992_row20_col8, #T_66992_row20_col9, #T_66992_row20_col10, #T_66992_row20_col11, #T_66992_row20_col12, #T_66992_row20_col13, #T_66992_row21_col0, #T_66992_row21_col1, #T_66992_row21_col2, #T_66992_row21_col3, #T_66992_row21_col4, #T_66992_row21_col5, #T_66992_row21_col6, #T_66992_row21_col7, #T_66992_row21_col8, #T_66992_row21_col9, #T_66992_row21_col10, #T_66992_row21_col11, #T_66992_row21_col12, #T_66992_row21_col13 {\n",
       "  font-size: 6pt;\n",
       "  background-color: #ffffff;\n",
       "  color: #000000;\n",
       "}\n",
       "#T_66992_row0_col7 {\n",
       "  font-size: 6pt;\n",
       "  background-color: #e0e0e0;\n",
       "  color: #000000;\n",
       "}\n",
       "#T_66992_row0_col8, #T_66992_row3_col11 {\n",
       "  font-size: 6pt;\n",
       "  background-color: #1d1d1d;\n",
       "  color: #f1f1f1;\n",
       "}\n",
       "#T_66992_row0_col9, #T_66992_row0_col13, #T_66992_row1_col8, #T_66992_row1_col9, #T_66992_row1_col13, #T_66992_row2_col8, #T_66992_row2_col9, #T_66992_row3_col6, #T_66992_row3_col7, #T_66992_row3_col10, #T_66992_row4_col5, #T_66992_row5_col4, #T_66992_row6_col3, #T_66992_row7_col3, #T_66992_row8_col2, #T_66992_row11_col13, #T_66992_row12_col12, #T_66992_row13_col0, #T_66992_row13_col1, #T_66992_row13_col11, #T_66992_row14_col9, #T_66992_row15_col3, #T_66992_row15_col8, #T_66992_row16_col3, #T_66992_row16_col4, #T_66992_row16_col5, #T_66992_row17_col3, #T_66992_row17_col4, #T_66992_row17_col5 {\n",
       "  font-size: 6pt;\n",
       "  background-color: #000000;\n",
       "  color: #f1f1f1;\n",
       "}\n",
       "#T_66992_row0_col10, #T_66992_row1_col10, #T_66992_row2_col6, #T_66992_row2_col7, #T_66992_row2_col10, #T_66992_row2_col11, #T_66992_row4_col6, #T_66992_row7_col2, #T_66992_row9_col2, #T_66992_row10_col1, #T_66992_row11_col1, #T_66992_row12_col1, #T_66992_row14_col1, #T_66992_row15_col1, #T_66992_row15_col2, #T_66992_row15_col6, #T_66992_row15_col7, #T_66992_row16_col2, #T_66992_row16_col6 {\n",
       "  font-size: 6pt;\n",
       "  background-color: #010101;\n",
       "  color: #f1f1f1;\n",
       "}\n",
       "#T_66992_row0_col11, #T_66992_row3_col5 {\n",
       "  font-size: 6pt;\n",
       "  background-color: #101010;\n",
       "  color: #f1f1f1;\n",
       "}\n",
       "#T_66992_row0_col12, #T_66992_row5_col5 {\n",
       "  font-size: 6pt;\n",
       "  background-color: #161616;\n",
       "  color: #f1f1f1;\n",
       "}\n",
       "#T_66992_row1_col5 {\n",
       "  font-size: 6pt;\n",
       "  background-color: #fafafa;\n",
       "  color: #000000;\n",
       "}\n",
       "#T_66992_row1_col6 {\n",
       "  font-size: 6pt;\n",
       "  background-color: #dcdcdc;\n",
       "  color: #000000;\n",
       "}\n",
       "#T_66992_row1_col7, #T_66992_row9_col0 {\n",
       "  font-size: 6pt;\n",
       "  background-color: #222222;\n",
       "  color: #f1f1f1;\n",
       "}\n",
       "#T_66992_row1_col11 {\n",
       "  font-size: 6pt;\n",
       "  background-color: #404040;\n",
       "  color: #f1f1f1;\n",
       "}\n",
       "#T_66992_row1_col12 {\n",
       "  font-size: 6pt;\n",
       "  background-color: #c6c6c6;\n",
       "  color: #000000;\n",
       "}\n",
       "#T_66992_row2_col5 {\n",
       "  font-size: 6pt;\n",
       "  background-color: #6d6d6d;\n",
       "  color: #f1f1f1;\n",
       "}\n",
       "#T_66992_row2_col12 {\n",
       "  font-size: 6pt;\n",
       "  background-color: #bbbbbb;\n",
       "  color: #000000;\n",
       "}\n",
       "#T_66992_row2_col13 {\n",
       "  font-size: 6pt;\n",
       "  background-color: #515151;\n",
       "  color: #f1f1f1;\n",
       "}\n",
       "#T_66992_row3_col4 {\n",
       "  font-size: 6pt;\n",
       "  background-color: #e2e2e2;\n",
       "  color: #000000;\n",
       "}\n",
       "#T_66992_row3_col8, #T_66992_row8_col3 {\n",
       "  font-size: 6pt;\n",
       "  background-color: #505050;\n",
       "  color: #f1f1f1;\n",
       "}\n",
       "#T_66992_row3_col9, #T_66992_row13_col9 {\n",
       "  font-size: 6pt;\n",
       "  background-color: #a5a5a5;\n",
       "  color: #f1f1f1;\n",
       "}\n",
       "#T_66992_row3_col12 {\n",
       "  font-size: 6pt;\n",
       "  background-color: #e5e5e5;\n",
       "  color: #000000;\n",
       "}\n",
       "#T_66992_row3_col13 {\n",
       "  font-size: 6pt;\n",
       "  background-color: #cbcbcb;\n",
       "  color: #000000;\n",
       "}\n",
       "#T_66992_row4_col3, #T_66992_row12_col10, #T_66992_row14_col4 {\n",
       "  font-size: 6pt;\n",
       "  background-color: #e4e4e4;\n",
       "  color: #000000;\n",
       "}\n",
       "#T_66992_row4_col4, #T_66992_row13_col10 {\n",
       "  font-size: 6pt;\n",
       "  background-color: #111111;\n",
       "  color: #f1f1f1;\n",
       "}\n",
       "#T_66992_row4_col7 {\n",
       "  font-size: 6pt;\n",
       "  background-color: #5d5d5d;\n",
       "  color: #f1f1f1;\n",
       "}\n",
       "#T_66992_row4_col8 {\n",
       "  font-size: 6pt;\n",
       "  background-color: #f9f9f9;\n",
       "  color: #000000;\n",
       "}\n",
       "#T_66992_row4_col9 {\n",
       "  font-size: 6pt;\n",
       "  background-color: #cfcfcf;\n",
       "  color: #000000;\n",
       "}\n",
       "#T_66992_row4_col10 {\n",
       "  font-size: 6pt;\n",
       "  background-color: #9d9d9d;\n",
       "  color: #f1f1f1;\n",
       "}\n",
       "#T_66992_row4_col11 {\n",
       "  font-size: 6pt;\n",
       "  background-color: #f5f5f5;\n",
       "  color: #000000;\n",
       "}\n",
       "#T_66992_row5_col2, #T_66992_row17_col7 {\n",
       "  font-size: 6pt;\n",
       "  background-color: #ececec;\n",
       "  color: #000000;\n",
       "}\n",
       "#T_66992_row5_col3 {\n",
       "  font-size: 6pt;\n",
       "  background-color: #6b6b6b;\n",
       "  color: #f1f1f1;\n",
       "}\n",
       "#T_66992_row5_col6 {\n",
       "  font-size: 6pt;\n",
       "  background-color: #383838;\n",
       "  color: #f1f1f1;\n",
       "}\n",
       "#T_66992_row5_col7 {\n",
       "  font-size: 6pt;\n",
       "  background-color: #c7c7c7;\n",
       "  color: #000000;\n",
       "}\n",
       "#T_66992_row6_col1, #T_66992_row10_col12, #T_66992_row11_col11 {\n",
       "  font-size: 6pt;\n",
       "  background-color: #fcfcfc;\n",
       "  color: #000000;\n",
       "}\n",
       "#T_66992_row6_col2, #T_66992_row14_col7 {\n",
       "  font-size: 6pt;\n",
       "  background-color: #5e5e5e;\n",
       "  color: #f1f1f1;\n",
       "}\n",
       "#T_66992_row6_col4 {\n",
       "  font-size: 6pt;\n",
       "  background-color: #0f0f0f;\n",
       "  color: #f1f1f1;\n",
       "}\n",
       "#T_66992_row6_col5 {\n",
       "  font-size: 6pt;\n",
       "  background-color: #d2d2d2;\n",
       "  color: #000000;\n",
       "}\n",
       "#T_66992_row6_col6 {\n",
       "  font-size: 6pt;\n",
       "  background-color: #f6f6f6;\n",
       "  color: #000000;\n",
       "}\n",
       "#T_66992_row6_col7 {\n",
       "  font-size: 6pt;\n",
       "  background-color: #f2f2f2;\n",
       "  color: #000000;\n",
       "}\n",
       "#T_66992_row7_col1 {\n",
       "  font-size: 6pt;\n",
       "  background-color: #dedede;\n",
       "  color: #000000;\n",
       "}\n",
       "#T_66992_row7_col4 {\n",
       "  font-size: 6pt;\n",
       "  background-color: #dadada;\n",
       "  color: #000000;\n",
       "}\n",
       "#T_66992_row8_col1 {\n",
       "  font-size: 6pt;\n",
       "  background-color: #464646;\n",
       "  color: #f1f1f1;\n",
       "}\n",
       "#T_66992_row9_col1 {\n",
       "  font-size: 6pt;\n",
       "  background-color: #080808;\n",
       "  color: #f1f1f1;\n",
       "}\n",
       "#T_66992_row9_col3 {\n",
       "  font-size: 6pt;\n",
       "  background-color: #a8a8a8;\n",
       "  color: #f1f1f1;\n",
       "}\n",
       "#T_66992_row10_col0, #T_66992_row11_col0, #T_66992_row12_col0, #T_66992_row14_col0, #T_66992_row15_col0 {\n",
       "  font-size: 6pt;\n",
       "  background-color: #020202;\n",
       "  color: #f1f1f1;\n",
       "}\n",
       "#T_66992_row10_col2 {\n",
       "  font-size: 6pt;\n",
       "  background-color: #1b1b1b;\n",
       "  color: #f1f1f1;\n",
       "}\n",
       "#T_66992_row10_col3, #T_66992_row17_col1 {\n",
       "  font-size: 6pt;\n",
       "  background-color: #f3f3f3;\n",
       "  color: #000000;\n",
       "}\n",
       "#T_66992_row10_col13 {\n",
       "  font-size: 6pt;\n",
       "  background-color: #8c8c8c;\n",
       "  color: #f1f1f1;\n",
       "}\n",
       "#T_66992_row11_col2, #T_66992_row14_col10 {\n",
       "  font-size: 6pt;\n",
       "  background-color: #232323;\n",
       "  color: #f1f1f1;\n",
       "}\n",
       "#T_66992_row11_col12 {\n",
       "  font-size: 6pt;\n",
       "  background-color: #909090;\n",
       "  color: #f1f1f1;\n",
       "}\n",
       "#T_66992_row12_col2 {\n",
       "  font-size: 6pt;\n",
       "  background-color: #828282;\n",
       "  color: #f1f1f1;\n",
       "}\n",
       "#T_66992_row12_col11 {\n",
       "  font-size: 6pt;\n",
       "  background-color: #6c6c6c;\n",
       "  color: #f1f1f1;\n",
       "}\n",
       "#T_66992_row12_col13 {\n",
       "  font-size: 6pt;\n",
       "  background-color: #636363;\n",
       "  color: #f1f1f1;\n",
       "}\n",
       "#T_66992_row13_col2 {\n",
       "  font-size: 6pt;\n",
       "  background-color: #212121;\n",
       "  color: #f1f1f1;\n",
       "}\n",
       "#T_66992_row13_col12 {\n",
       "  font-size: 6pt;\n",
       "  background-color: #6e6e6e;\n",
       "  color: #f1f1f1;\n",
       "}\n",
       "#T_66992_row14_col2 {\n",
       "  font-size: 6pt;\n",
       "  background-color: #050505;\n",
       "  color: #f1f1f1;\n",
       "}\n",
       "#T_66992_row14_col3 {\n",
       "  font-size: 6pt;\n",
       "  background-color: #7f7f7f;\n",
       "  color: #f1f1f1;\n",
       "}\n",
       "#T_66992_row14_col5 {\n",
       "  font-size: 6pt;\n",
       "  background-color: #f1f1f1;\n",
       "  color: #000000;\n",
       "}\n",
       "#T_66992_row14_col6 {\n",
       "  font-size: 6pt;\n",
       "  background-color: #c5c5c5;\n",
       "  color: #000000;\n",
       "}\n",
       "#T_66992_row14_col8 {\n",
       "  font-size: 6pt;\n",
       "  background-color: #1f1f1f;\n",
       "  color: #f1f1f1;\n",
       "}\n",
       "#T_66992_row14_col11 {\n",
       "  font-size: 6pt;\n",
       "  background-color: #6a6a6a;\n",
       "  color: #f1f1f1;\n",
       "}\n",
       "#T_66992_row14_col12 {\n",
       "  font-size: 6pt;\n",
       "  background-color: #dfdfdf;\n",
       "  color: #000000;\n",
       "}\n",
       "#T_66992_row15_col4 {\n",
       "  font-size: 6pt;\n",
       "  background-color: #1c1c1c;\n",
       "  color: #f1f1f1;\n",
       "}\n",
       "#T_66992_row15_col5 {\n",
       "  font-size: 6pt;\n",
       "  background-color: #2c2c2c;\n",
       "  color: #f1f1f1;\n",
       "}\n",
       "#T_66992_row15_col9 {\n",
       "  font-size: 6pt;\n",
       "  background-color: #484848;\n",
       "  color: #f1f1f1;\n",
       "}\n",
       "#T_66992_row15_col10 {\n",
       "  font-size: 6pt;\n",
       "  background-color: #929292;\n",
       "  color: #f1f1f1;\n",
       "}\n",
       "#T_66992_row16_col0 {\n",
       "  font-size: 6pt;\n",
       "  background-color: #c8c8c8;\n",
       "  color: #000000;\n",
       "}\n",
       "#T_66992_row16_col1 {\n",
       "  font-size: 6pt;\n",
       "  background-color: #444444;\n",
       "  color: #f1f1f1;\n",
       "}\n",
       "#T_66992_row16_col7 {\n",
       "  font-size: 6pt;\n",
       "  background-color: #171717;\n",
       "  color: #f1f1f1;\n",
       "}\n",
       "#T_66992_row16_col8 {\n",
       "  font-size: 6pt;\n",
       "  background-color: #818181;\n",
       "  color: #f1f1f1;\n",
       "}\n",
       "#T_66992_row17_col2 {\n",
       "  font-size: 6pt;\n",
       "  background-color: #949494;\n",
       "  color: #f1f1f1;\n",
       "}\n",
       "#T_66992_row17_col6 {\n",
       "  font-size: 6pt;\n",
       "  background-color: #868686;\n",
       "  color: #f1f1f1;\n",
       "}\n",
       "</style>\n",
       "<table id=\"T_66992_\">\n",
       "  <thead>\n",
       "    <tr>\n",
       "      <th class=\"blank level0\" >&nbsp;</th>\n",
       "      <th class=\"col_heading level0 col0\" >0</th>\n",
       "      <th class=\"col_heading level0 col1\" >1</th>\n",
       "      <th class=\"col_heading level0 col2\" >2</th>\n",
       "      <th class=\"col_heading level0 col3\" >3</th>\n",
       "      <th class=\"col_heading level0 col4\" >4</th>\n",
       "      <th class=\"col_heading level0 col5\" >5</th>\n",
       "      <th class=\"col_heading level0 col6\" >6</th>\n",
       "      <th class=\"col_heading level0 col7\" >7</th>\n",
       "      <th class=\"col_heading level0 col8\" >8</th>\n",
       "      <th class=\"col_heading level0 col9\" >9</th>\n",
       "      <th class=\"col_heading level0 col10\" >10</th>\n",
       "      <th class=\"col_heading level0 col11\" >11</th>\n",
       "      <th class=\"col_heading level0 col12\" >12</th>\n",
       "      <th class=\"col_heading level0 col13\" >13</th>\n",
       "    </tr>\n",
       "  </thead>\n",
       "  <tbody>\n",
       "    <tr>\n",
       "      <th id=\"T_66992_level0_row0\" class=\"row_heading level0 row0\" >0</th>\n",
       "      <td id=\"T_66992_row0_col0\" class=\"data row0 col0\" >0</td>\n",
       "      <td id=\"T_66992_row0_col1\" class=\"data row0 col1\" >0</td>\n",
       "      <td id=\"T_66992_row0_col2\" class=\"data row0 col2\" >0</td>\n",
       "      <td id=\"T_66992_row0_col3\" class=\"data row0 col3\" >0</td>\n",
       "      <td id=\"T_66992_row0_col4\" class=\"data row0 col4\" >0</td>\n",
       "      <td id=\"T_66992_row0_col5\" class=\"data row0 col5\" >0</td>\n",
       "      <td id=\"T_66992_row0_col6\" class=\"data row0 col6\" >0</td>\n",
       "      <td id=\"T_66992_row0_col7\" class=\"data row0 col7\" >54</td>\n",
       "      <td id=\"T_66992_row0_col8\" class=\"data row0 col8\" >227</td>\n",
       "      <td id=\"T_66992_row0_col9\" class=\"data row0 col9\" >253</td>\n",
       "      <td id=\"T_66992_row0_col10\" class=\"data row0 col10\" >252</td>\n",
       "      <td id=\"T_66992_row0_col11\" class=\"data row0 col11\" >239</td>\n",
       "      <td id=\"T_66992_row0_col12\" class=\"data row0 col12\" >233</td>\n",
       "      <td id=\"T_66992_row0_col13\" class=\"data row0 col13\" >252</td>\n",
       "    </tr>\n",
       "    <tr>\n",
       "      <th id=\"T_66992_level0_row1\" class=\"row_heading level0 row1\" >1</th>\n",
       "      <td id=\"T_66992_row1_col0\" class=\"data row1 col0\" >0</td>\n",
       "      <td id=\"T_66992_row1_col1\" class=\"data row1 col1\" >0</td>\n",
       "      <td id=\"T_66992_row1_col2\" class=\"data row1 col2\" >0</td>\n",
       "      <td id=\"T_66992_row1_col3\" class=\"data row1 col3\" >0</td>\n",
       "      <td id=\"T_66992_row1_col4\" class=\"data row1 col4\" >0</td>\n",
       "      <td id=\"T_66992_row1_col5\" class=\"data row1 col5\" >10</td>\n",
       "      <td id=\"T_66992_row1_col6\" class=\"data row1 col6\" >60</td>\n",
       "      <td id=\"T_66992_row1_col7\" class=\"data row1 col7\" >224</td>\n",
       "      <td id=\"T_66992_row1_col8\" class=\"data row1 col8\" >252</td>\n",
       "      <td id=\"T_66992_row1_col9\" class=\"data row1 col9\" >253</td>\n",
       "      <td id=\"T_66992_row1_col10\" class=\"data row1 col10\" >252</td>\n",
       "      <td id=\"T_66992_row1_col11\" class=\"data row1 col11\" >202</td>\n",
       "      <td id=\"T_66992_row1_col12\" class=\"data row1 col12\" >84</td>\n",
       "      <td id=\"T_66992_row1_col13\" class=\"data row1 col13\" >252</td>\n",
       "    </tr>\n",
       "    <tr>\n",
       "      <th id=\"T_66992_level0_row2\" class=\"row_heading level0 row2\" >2</th>\n",
       "      <td id=\"T_66992_row2_col0\" class=\"data row2 col0\" >0</td>\n",
       "      <td id=\"T_66992_row2_col1\" class=\"data row2 col1\" >0</td>\n",
       "      <td id=\"T_66992_row2_col2\" class=\"data row2 col2\" >0</td>\n",
       "      <td id=\"T_66992_row2_col3\" class=\"data row2 col3\" >0</td>\n",
       "      <td id=\"T_66992_row2_col4\" class=\"data row2 col4\" >0</td>\n",
       "      <td id=\"T_66992_row2_col5\" class=\"data row2 col5\" >163</td>\n",
       "      <td id=\"T_66992_row2_col6\" class=\"data row2 col6\" >252</td>\n",
       "      <td id=\"T_66992_row2_col7\" class=\"data row2 col7\" >252</td>\n",
       "      <td id=\"T_66992_row2_col8\" class=\"data row2 col8\" >252</td>\n",
       "      <td id=\"T_66992_row2_col9\" class=\"data row2 col9\" >253</td>\n",
       "      <td id=\"T_66992_row2_col10\" class=\"data row2 col10\" >252</td>\n",
       "      <td id=\"T_66992_row2_col11\" class=\"data row2 col11\" >252</td>\n",
       "      <td id=\"T_66992_row2_col12\" class=\"data row2 col12\" >96</td>\n",
       "      <td id=\"T_66992_row2_col13\" class=\"data row2 col13\" >189</td>\n",
       "    </tr>\n",
       "    <tr>\n",
       "      <th id=\"T_66992_level0_row3\" class=\"row_heading level0 row3\" >3</th>\n",
       "      <td id=\"T_66992_row3_col0\" class=\"data row3 col0\" >0</td>\n",
       "      <td id=\"T_66992_row3_col1\" class=\"data row3 col1\" >0</td>\n",
       "      <td id=\"T_66992_row3_col2\" class=\"data row3 col2\" >0</td>\n",
       "      <td id=\"T_66992_row3_col3\" class=\"data row3 col3\" >0</td>\n",
       "      <td id=\"T_66992_row3_col4\" class=\"data row3 col4\" >51</td>\n",
       "      <td id=\"T_66992_row3_col5\" class=\"data row3 col5\" >238</td>\n",
       "      <td id=\"T_66992_row3_col6\" class=\"data row3 col6\" >253</td>\n",
       "      <td id=\"T_66992_row3_col7\" class=\"data row3 col7\" >253</td>\n",
       "      <td id=\"T_66992_row3_col8\" class=\"data row3 col8\" >190</td>\n",
       "      <td id=\"T_66992_row3_col9\" class=\"data row3 col9\" >114</td>\n",
       "      <td id=\"T_66992_row3_col10\" class=\"data row3 col10\" >253</td>\n",
       "      <td id=\"T_66992_row3_col11\" class=\"data row3 col11\" >228</td>\n",
       "      <td id=\"T_66992_row3_col12\" class=\"data row3 col12\" >47</td>\n",
       "      <td id=\"T_66992_row3_col13\" class=\"data row3 col13\" >79</td>\n",
       "    </tr>\n",
       "    <tr>\n",
       "      <th id=\"T_66992_level0_row4\" class=\"row_heading level0 row4\" >4</th>\n",
       "      <td id=\"T_66992_row4_col0\" class=\"data row4 col0\" >0</td>\n",
       "      <td id=\"T_66992_row4_col1\" class=\"data row4 col1\" >0</td>\n",
       "      <td id=\"T_66992_row4_col2\" class=\"data row4 col2\" >0</td>\n",
       "      <td id=\"T_66992_row4_col3\" class=\"data row4 col3\" >48</td>\n",
       "      <td id=\"T_66992_row4_col4\" class=\"data row4 col4\" >238</td>\n",
       "      <td id=\"T_66992_row4_col5\" class=\"data row4 col5\" >252</td>\n",
       "      <td id=\"T_66992_row4_col6\" class=\"data row4 col6\" >252</td>\n",
       "      <td id=\"T_66992_row4_col7\" class=\"data row4 col7\" >179</td>\n",
       "      <td id=\"T_66992_row4_col8\" class=\"data row4 col8\" >12</td>\n",
       "      <td id=\"T_66992_row4_col9\" class=\"data row4 col9\" >75</td>\n",
       "      <td id=\"T_66992_row4_col10\" class=\"data row4 col10\" >121</td>\n",
       "      <td id=\"T_66992_row4_col11\" class=\"data row4 col11\" >21</td>\n",
       "      <td id=\"T_66992_row4_col12\" class=\"data row4 col12\" >0</td>\n",
       "      <td id=\"T_66992_row4_col13\" class=\"data row4 col13\" >0</td>\n",
       "    </tr>\n",
       "    <tr>\n",
       "      <th id=\"T_66992_level0_row5\" class=\"row_heading level0 row5\" >5</th>\n",
       "      <td id=\"T_66992_row5_col0\" class=\"data row5 col0\" >0</td>\n",
       "      <td id=\"T_66992_row5_col1\" class=\"data row5 col1\" >0</td>\n",
       "      <td id=\"T_66992_row5_col2\" class=\"data row5 col2\" >38</td>\n",
       "      <td id=\"T_66992_row5_col3\" class=\"data row5 col3\" >165</td>\n",
       "      <td id=\"T_66992_row5_col4\" class=\"data row5 col4\" >253</td>\n",
       "      <td id=\"T_66992_row5_col5\" class=\"data row5 col5\" >233</td>\n",
       "      <td id=\"T_66992_row5_col6\" class=\"data row5 col6\" >208</td>\n",
       "      <td id=\"T_66992_row5_col7\" class=\"data row5 col7\" >84</td>\n",
       "      <td id=\"T_66992_row5_col8\" class=\"data row5 col8\" >0</td>\n",
       "      <td id=\"T_66992_row5_col9\" class=\"data row5 col9\" >0</td>\n",
       "      <td id=\"T_66992_row5_col10\" class=\"data row5 col10\" >0</td>\n",
       "      <td id=\"T_66992_row5_col11\" class=\"data row5 col11\" >0</td>\n",
       "      <td id=\"T_66992_row5_col12\" class=\"data row5 col12\" >0</td>\n",
       "      <td id=\"T_66992_row5_col13\" class=\"data row5 col13\" >0</td>\n",
       "    </tr>\n",
       "    <tr>\n",
       "      <th id=\"T_66992_level0_row6\" class=\"row_heading level0 row6\" >6</th>\n",
       "      <td id=\"T_66992_row6_col0\" class=\"data row6 col0\" >0</td>\n",
       "      <td id=\"T_66992_row6_col1\" class=\"data row6 col1\" >7</td>\n",
       "      <td id=\"T_66992_row6_col2\" class=\"data row6 col2\" >178</td>\n",
       "      <td id=\"T_66992_row6_col3\" class=\"data row6 col3\" >252</td>\n",
       "      <td id=\"T_66992_row6_col4\" class=\"data row6 col4\" >240</td>\n",
       "      <td id=\"T_66992_row6_col5\" class=\"data row6 col5\" >71</td>\n",
       "      <td id=\"T_66992_row6_col6\" class=\"data row6 col6\" >19</td>\n",
       "      <td id=\"T_66992_row6_col7\" class=\"data row6 col7\" >28</td>\n",
       "      <td id=\"T_66992_row6_col8\" class=\"data row6 col8\" >0</td>\n",
       "      <td id=\"T_66992_row6_col9\" class=\"data row6 col9\" >0</td>\n",
       "      <td id=\"T_66992_row6_col10\" class=\"data row6 col10\" >0</td>\n",
       "      <td id=\"T_66992_row6_col11\" class=\"data row6 col11\" >0</td>\n",
       "      <td id=\"T_66992_row6_col12\" class=\"data row6 col12\" >0</td>\n",
       "      <td id=\"T_66992_row6_col13\" class=\"data row6 col13\" >0</td>\n",
       "    </tr>\n",
       "    <tr>\n",
       "      <th id=\"T_66992_level0_row7\" class=\"row_heading level0 row7\" >7</th>\n",
       "      <td id=\"T_66992_row7_col0\" class=\"data row7 col0\" >0</td>\n",
       "      <td id=\"T_66992_row7_col1\" class=\"data row7 col1\" >57</td>\n",
       "      <td id=\"T_66992_row7_col2\" class=\"data row7 col2\" >252</td>\n",
       "      <td id=\"T_66992_row7_col3\" class=\"data row7 col3\" >252</td>\n",
       "      <td id=\"T_66992_row7_col4\" class=\"data row7 col4\" >63</td>\n",
       "      <td id=\"T_66992_row7_col5\" class=\"data row7 col5\" >0</td>\n",
       "      <td id=\"T_66992_row7_col6\" class=\"data row7 col6\" >0</td>\n",
       "      <td id=\"T_66992_row7_col7\" class=\"data row7 col7\" >0</td>\n",
       "      <td id=\"T_66992_row7_col8\" class=\"data row7 col8\" >0</td>\n",
       "      <td id=\"T_66992_row7_col9\" class=\"data row7 col9\" >0</td>\n",
       "      <td id=\"T_66992_row7_col10\" class=\"data row7 col10\" >0</td>\n",
       "      <td id=\"T_66992_row7_col11\" class=\"data row7 col11\" >0</td>\n",
       "      <td id=\"T_66992_row7_col12\" class=\"data row7 col12\" >0</td>\n",
       "      <td id=\"T_66992_row7_col13\" class=\"data row7 col13\" >0</td>\n",
       "    </tr>\n",
       "    <tr>\n",
       "      <th id=\"T_66992_level0_row8\" class=\"row_heading level0 row8\" >8</th>\n",
       "      <td id=\"T_66992_row8_col0\" class=\"data row8 col0\" >0</td>\n",
       "      <td id=\"T_66992_row8_col1\" class=\"data row8 col1\" >198</td>\n",
       "      <td id=\"T_66992_row8_col2\" class=\"data row8 col2\" >253</td>\n",
       "      <td id=\"T_66992_row8_col3\" class=\"data row8 col3\" >190</td>\n",
       "      <td id=\"T_66992_row8_col4\" class=\"data row8 col4\" >0</td>\n",
       "      <td id=\"T_66992_row8_col5\" class=\"data row8 col5\" >0</td>\n",
       "      <td id=\"T_66992_row8_col6\" class=\"data row8 col6\" >0</td>\n",
       "      <td id=\"T_66992_row8_col7\" class=\"data row8 col7\" >0</td>\n",
       "      <td id=\"T_66992_row8_col8\" class=\"data row8 col8\" >0</td>\n",
       "      <td id=\"T_66992_row8_col9\" class=\"data row8 col9\" >0</td>\n",
       "      <td id=\"T_66992_row8_col10\" class=\"data row8 col10\" >0</td>\n",
       "      <td id=\"T_66992_row8_col11\" class=\"data row8 col11\" >0</td>\n",
       "      <td id=\"T_66992_row8_col12\" class=\"data row8 col12\" >0</td>\n",
       "      <td id=\"T_66992_row8_col13\" class=\"data row8 col13\" >0</td>\n",
       "    </tr>\n",
       "    <tr>\n",
       "      <th id=\"T_66992_level0_row9\" class=\"row_heading level0 row9\" >9</th>\n",
       "      <td id=\"T_66992_row9_col0\" class=\"data row9 col0\" >76</td>\n",
       "      <td id=\"T_66992_row9_col1\" class=\"data row9 col1\" >246</td>\n",
       "      <td id=\"T_66992_row9_col2\" class=\"data row9 col2\" >252</td>\n",
       "      <td id=\"T_66992_row9_col3\" class=\"data row9 col3\" >112</td>\n",
       "      <td id=\"T_66992_row9_col4\" class=\"data row9 col4\" >0</td>\n",
       "      <td id=\"T_66992_row9_col5\" class=\"data row9 col5\" >0</td>\n",
       "      <td id=\"T_66992_row9_col6\" class=\"data row9 col6\" >0</td>\n",
       "      <td id=\"T_66992_row9_col7\" class=\"data row9 col7\" >0</td>\n",
       "      <td id=\"T_66992_row9_col8\" class=\"data row9 col8\" >0</td>\n",
       "      <td id=\"T_66992_row9_col9\" class=\"data row9 col9\" >0</td>\n",
       "      <td id=\"T_66992_row9_col10\" class=\"data row9 col10\" >0</td>\n",
       "      <td id=\"T_66992_row9_col11\" class=\"data row9 col11\" >0</td>\n",
       "      <td id=\"T_66992_row9_col12\" class=\"data row9 col12\" >0</td>\n",
       "      <td id=\"T_66992_row9_col13\" class=\"data row9 col13\" >0</td>\n",
       "    </tr>\n",
       "    <tr>\n",
       "      <th id=\"T_66992_level0_row10\" class=\"row_heading level0 row10\" >10</th>\n",
       "      <td id=\"T_66992_row10_col0\" class=\"data row10 col0\" >85</td>\n",
       "      <td id=\"T_66992_row10_col1\" class=\"data row10 col1\" >252</td>\n",
       "      <td id=\"T_66992_row10_col2\" class=\"data row10 col2\" >230</td>\n",
       "      <td id=\"T_66992_row10_col3\" class=\"data row10 col3\" >25</td>\n",
       "      <td id=\"T_66992_row10_col4\" class=\"data row10 col4\" >0</td>\n",
       "      <td id=\"T_66992_row10_col5\" class=\"data row10 col5\" >0</td>\n",
       "      <td id=\"T_66992_row10_col6\" class=\"data row10 col6\" >0</td>\n",
       "      <td id=\"T_66992_row10_col7\" class=\"data row10 col7\" >0</td>\n",
       "      <td id=\"T_66992_row10_col8\" class=\"data row10 col8\" >0</td>\n",
       "      <td id=\"T_66992_row10_col9\" class=\"data row10 col9\" >0</td>\n",
       "      <td id=\"T_66992_row10_col10\" class=\"data row10 col10\" >0</td>\n",
       "      <td id=\"T_66992_row10_col11\" class=\"data row10 col11\" >0</td>\n",
       "      <td id=\"T_66992_row10_col12\" class=\"data row10 col12\" >7</td>\n",
       "      <td id=\"T_66992_row10_col13\" class=\"data row10 col13\" >135</td>\n",
       "    </tr>\n",
       "    <tr>\n",
       "      <th id=\"T_66992_level0_row11\" class=\"row_heading level0 row11\" >11</th>\n",
       "      <td id=\"T_66992_row11_col0\" class=\"data row11 col0\" >85</td>\n",
       "      <td id=\"T_66992_row11_col1\" class=\"data row11 col1\" >252</td>\n",
       "      <td id=\"T_66992_row11_col2\" class=\"data row11 col2\" >223</td>\n",
       "      <td id=\"T_66992_row11_col3\" class=\"data row11 col3\" >0</td>\n",
       "      <td id=\"T_66992_row11_col4\" class=\"data row11 col4\" >0</td>\n",
       "      <td id=\"T_66992_row11_col5\" class=\"data row11 col5\" >0</td>\n",
       "      <td id=\"T_66992_row11_col6\" class=\"data row11 col6\" >0</td>\n",
       "      <td id=\"T_66992_row11_col7\" class=\"data row11 col7\" >0</td>\n",
       "      <td id=\"T_66992_row11_col8\" class=\"data row11 col8\" >0</td>\n",
       "      <td id=\"T_66992_row11_col9\" class=\"data row11 col9\" >0</td>\n",
       "      <td id=\"T_66992_row11_col10\" class=\"data row11 col10\" >0</td>\n",
       "      <td id=\"T_66992_row11_col11\" class=\"data row11 col11\" >7</td>\n",
       "      <td id=\"T_66992_row11_col12\" class=\"data row11 col12\" >131</td>\n",
       "      <td id=\"T_66992_row11_col13\" class=\"data row11 col13\" >252</td>\n",
       "    </tr>\n",
       "    <tr>\n",
       "      <th id=\"T_66992_level0_row12\" class=\"row_heading level0 row12\" >12</th>\n",
       "      <td id=\"T_66992_row12_col0\" class=\"data row12 col0\" >85</td>\n",
       "      <td id=\"T_66992_row12_col1\" class=\"data row12 col1\" >252</td>\n",
       "      <td id=\"T_66992_row12_col2\" class=\"data row12 col2\" >145</td>\n",
       "      <td id=\"T_66992_row12_col3\" class=\"data row12 col3\" >0</td>\n",
       "      <td id=\"T_66992_row12_col4\" class=\"data row12 col4\" >0</td>\n",
       "      <td id=\"T_66992_row12_col5\" class=\"data row12 col5\" >0</td>\n",
       "      <td id=\"T_66992_row12_col6\" class=\"data row12 col6\" >0</td>\n",
       "      <td id=\"T_66992_row12_col7\" class=\"data row12 col7\" >0</td>\n",
       "      <td id=\"T_66992_row12_col8\" class=\"data row12 col8\" >0</td>\n",
       "      <td id=\"T_66992_row12_col9\" class=\"data row12 col9\" >0</td>\n",
       "      <td id=\"T_66992_row12_col10\" class=\"data row12 col10\" >48</td>\n",
       "      <td id=\"T_66992_row12_col11\" class=\"data row12 col11\" >165</td>\n",
       "      <td id=\"T_66992_row12_col12\" class=\"data row12 col12\" >252</td>\n",
       "      <td id=\"T_66992_row12_col13\" class=\"data row12 col13\" >173</td>\n",
       "    </tr>\n",
       "    <tr>\n",
       "      <th id=\"T_66992_level0_row13\" class=\"row_heading level0 row13\" >13</th>\n",
       "      <td id=\"T_66992_row13_col0\" class=\"data row13 col0\" >86</td>\n",
       "      <td id=\"T_66992_row13_col1\" class=\"data row13 col1\" >253</td>\n",
       "      <td id=\"T_66992_row13_col2\" class=\"data row13 col2\" >225</td>\n",
       "      <td id=\"T_66992_row13_col3\" class=\"data row13 col3\" >0</td>\n",
       "      <td id=\"T_66992_row13_col4\" class=\"data row13 col4\" >0</td>\n",
       "      <td id=\"T_66992_row13_col5\" class=\"data row13 col5\" >0</td>\n",
       "      <td id=\"T_66992_row13_col6\" class=\"data row13 col6\" >0</td>\n",
       "      <td id=\"T_66992_row13_col7\" class=\"data row13 col7\" >0</td>\n",
       "      <td id=\"T_66992_row13_col8\" class=\"data row13 col8\" >0</td>\n",
       "      <td id=\"T_66992_row13_col9\" class=\"data row13 col9\" >114</td>\n",
       "      <td id=\"T_66992_row13_col10\" class=\"data row13 col10\" >238</td>\n",
       "      <td id=\"T_66992_row13_col11\" class=\"data row13 col11\" >253</td>\n",
       "      <td id=\"T_66992_row13_col12\" class=\"data row13 col12\" >162</td>\n",
       "      <td id=\"T_66992_row13_col13\" class=\"data row13 col13\" >0</td>\n",
       "    </tr>\n",
       "    <tr>\n",
       "      <th id=\"T_66992_level0_row14\" class=\"row_heading level0 row14\" >14</th>\n",
       "      <td id=\"T_66992_row14_col0\" class=\"data row14 col0\" >85</td>\n",
       "      <td id=\"T_66992_row14_col1\" class=\"data row14 col1\" >252</td>\n",
       "      <td id=\"T_66992_row14_col2\" class=\"data row14 col2\" >249</td>\n",
       "      <td id=\"T_66992_row14_col3\" class=\"data row14 col3\" >146</td>\n",
       "      <td id=\"T_66992_row14_col4\" class=\"data row14 col4\" >48</td>\n",
       "      <td id=\"T_66992_row14_col5\" class=\"data row14 col5\" >29</td>\n",
       "      <td id=\"T_66992_row14_col6\" class=\"data row14 col6\" >85</td>\n",
       "      <td id=\"T_66992_row14_col7\" class=\"data row14 col7\" >178</td>\n",
       "      <td id=\"T_66992_row14_col8\" class=\"data row14 col8\" >225</td>\n",
       "      <td id=\"T_66992_row14_col9\" class=\"data row14 col9\" >253</td>\n",
       "      <td id=\"T_66992_row14_col10\" class=\"data row14 col10\" >223</td>\n",
       "      <td id=\"T_66992_row14_col11\" class=\"data row14 col11\" >167</td>\n",
       "      <td id=\"T_66992_row14_col12\" class=\"data row14 col12\" >56</td>\n",
       "      <td id=\"T_66992_row14_col13\" class=\"data row14 col13\" >0</td>\n",
       "    </tr>\n",
       "    <tr>\n",
       "      <th id=\"T_66992_level0_row15\" class=\"row_heading level0 row15\" >15</th>\n",
       "      <td id=\"T_66992_row15_col0\" class=\"data row15 col0\" >85</td>\n",
       "      <td id=\"T_66992_row15_col1\" class=\"data row15 col1\" >252</td>\n",
       "      <td id=\"T_66992_row15_col2\" class=\"data row15 col2\" >252</td>\n",
       "      <td id=\"T_66992_row15_col3\" class=\"data row15 col3\" >252</td>\n",
       "      <td id=\"T_66992_row15_col4\" class=\"data row15 col4\" >229</td>\n",
       "      <td id=\"T_66992_row15_col5\" class=\"data row15 col5\" >215</td>\n",
       "      <td id=\"T_66992_row15_col6\" class=\"data row15 col6\" >252</td>\n",
       "      <td id=\"T_66992_row15_col7\" class=\"data row15 col7\" >252</td>\n",
       "      <td id=\"T_66992_row15_col8\" class=\"data row15 col8\" >252</td>\n",
       "      <td id=\"T_66992_row15_col9\" class=\"data row15 col9\" >196</td>\n",
       "      <td id=\"T_66992_row15_col10\" class=\"data row15 col10\" >130</td>\n",
       "      <td id=\"T_66992_row15_col11\" class=\"data row15 col11\" >0</td>\n",
       "      <td id=\"T_66992_row15_col12\" class=\"data row15 col12\" >0</td>\n",
       "      <td id=\"T_66992_row15_col13\" class=\"data row15 col13\" >0</td>\n",
       "    </tr>\n",
       "    <tr>\n",
       "      <th id=\"T_66992_level0_row16\" class=\"row_heading level0 row16\" >16</th>\n",
       "      <td id=\"T_66992_row16_col0\" class=\"data row16 col0\" >28</td>\n",
       "      <td id=\"T_66992_row16_col1\" class=\"data row16 col1\" >199</td>\n",
       "      <td id=\"T_66992_row16_col2\" class=\"data row16 col2\" >252</td>\n",
       "      <td id=\"T_66992_row16_col3\" class=\"data row16 col3\" >252</td>\n",
       "      <td id=\"T_66992_row16_col4\" class=\"data row16 col4\" >253</td>\n",
       "      <td id=\"T_66992_row16_col5\" class=\"data row16 col5\" >252</td>\n",
       "      <td id=\"T_66992_row16_col6\" class=\"data row16 col6\" >252</td>\n",
       "      <td id=\"T_66992_row16_col7\" class=\"data row16 col7\" >233</td>\n",
       "      <td id=\"T_66992_row16_col8\" class=\"data row16 col8\" >145</td>\n",
       "      <td id=\"T_66992_row16_col9\" class=\"data row16 col9\" >0</td>\n",
       "      <td id=\"T_66992_row16_col10\" class=\"data row16 col10\" >0</td>\n",
       "      <td id=\"T_66992_row16_col11\" class=\"data row16 col11\" >0</td>\n",
       "      <td id=\"T_66992_row16_col12\" class=\"data row16 col12\" >0</td>\n",
       "      <td id=\"T_66992_row16_col13\" class=\"data row16 col13\" >0</td>\n",
       "    </tr>\n",
       "    <tr>\n",
       "      <th id=\"T_66992_level0_row17\" class=\"row_heading level0 row17\" >17</th>\n",
       "      <td id=\"T_66992_row17_col0\" class=\"data row17 col0\" >0</td>\n",
       "      <td id=\"T_66992_row17_col1\" class=\"data row17 col1\" >25</td>\n",
       "      <td id=\"T_66992_row17_col2\" class=\"data row17 col2\" >128</td>\n",
       "      <td id=\"T_66992_row17_col3\" class=\"data row17 col3\" >252</td>\n",
       "      <td id=\"T_66992_row17_col4\" class=\"data row17 col4\" >253</td>\n",
       "      <td id=\"T_66992_row17_col5\" class=\"data row17 col5\" >252</td>\n",
       "      <td id=\"T_66992_row17_col6\" class=\"data row17 col6\" >141</td>\n",
       "      <td id=\"T_66992_row17_col7\" class=\"data row17 col7\" >37</td>\n",
       "      <td id=\"T_66992_row17_col8\" class=\"data row17 col8\" >0</td>\n",
       "      <td id=\"T_66992_row17_col9\" class=\"data row17 col9\" >0</td>\n",
       "      <td id=\"T_66992_row17_col10\" class=\"data row17 col10\" >0</td>\n",
       "      <td id=\"T_66992_row17_col11\" class=\"data row17 col11\" >0</td>\n",
       "      <td id=\"T_66992_row17_col12\" class=\"data row17 col12\" >0</td>\n",
       "      <td id=\"T_66992_row17_col13\" class=\"data row17 col13\" >0</td>\n",
       "    </tr>\n",
       "    <tr>\n",
       "      <th id=\"T_66992_level0_row18\" class=\"row_heading level0 row18\" >18</th>\n",
       "      <td id=\"T_66992_row18_col0\" class=\"data row18 col0\" >0</td>\n",
       "      <td id=\"T_66992_row18_col1\" class=\"data row18 col1\" >0</td>\n",
       "      <td id=\"T_66992_row18_col2\" class=\"data row18 col2\" >0</td>\n",
       "      <td id=\"T_66992_row18_col3\" class=\"data row18 col3\" >0</td>\n",
       "      <td id=\"T_66992_row18_col4\" class=\"data row18 col4\" >0</td>\n",
       "      <td id=\"T_66992_row18_col5\" class=\"data row18 col5\" >0</td>\n",
       "      <td id=\"T_66992_row18_col6\" class=\"data row18 col6\" >0</td>\n",
       "      <td id=\"T_66992_row18_col7\" class=\"data row18 col7\" >0</td>\n",
       "      <td id=\"T_66992_row18_col8\" class=\"data row18 col8\" >0</td>\n",
       "      <td id=\"T_66992_row18_col9\" class=\"data row18 col9\" >0</td>\n",
       "      <td id=\"T_66992_row18_col10\" class=\"data row18 col10\" >0</td>\n",
       "      <td id=\"T_66992_row18_col11\" class=\"data row18 col11\" >0</td>\n",
       "      <td id=\"T_66992_row18_col12\" class=\"data row18 col12\" >0</td>\n",
       "      <td id=\"T_66992_row18_col13\" class=\"data row18 col13\" >0</td>\n",
       "    </tr>\n",
       "    <tr>\n",
       "      <th id=\"T_66992_level0_row19\" class=\"row_heading level0 row19\" >19</th>\n",
       "      <td id=\"T_66992_row19_col0\" class=\"data row19 col0\" >0</td>\n",
       "      <td id=\"T_66992_row19_col1\" class=\"data row19 col1\" >0</td>\n",
       "      <td id=\"T_66992_row19_col2\" class=\"data row19 col2\" >0</td>\n",
       "      <td id=\"T_66992_row19_col3\" class=\"data row19 col3\" >0</td>\n",
       "      <td id=\"T_66992_row19_col4\" class=\"data row19 col4\" >0</td>\n",
       "      <td id=\"T_66992_row19_col5\" class=\"data row19 col5\" >0</td>\n",
       "      <td id=\"T_66992_row19_col6\" class=\"data row19 col6\" >0</td>\n",
       "      <td id=\"T_66992_row19_col7\" class=\"data row19 col7\" >0</td>\n",
       "      <td id=\"T_66992_row19_col8\" class=\"data row19 col8\" >0</td>\n",
       "      <td id=\"T_66992_row19_col9\" class=\"data row19 col9\" >0</td>\n",
       "      <td id=\"T_66992_row19_col10\" class=\"data row19 col10\" >0</td>\n",
       "      <td id=\"T_66992_row19_col11\" class=\"data row19 col11\" >0</td>\n",
       "      <td id=\"T_66992_row19_col12\" class=\"data row19 col12\" >0</td>\n",
       "      <td id=\"T_66992_row19_col13\" class=\"data row19 col13\" >0</td>\n",
       "    </tr>\n",
       "    <tr>\n",
       "      <th id=\"T_66992_level0_row20\" class=\"row_heading level0 row20\" >20</th>\n",
       "      <td id=\"T_66992_row20_col0\" class=\"data row20 col0\" >0</td>\n",
       "      <td id=\"T_66992_row20_col1\" class=\"data row20 col1\" >0</td>\n",
       "      <td id=\"T_66992_row20_col2\" class=\"data row20 col2\" >0</td>\n",
       "      <td id=\"T_66992_row20_col3\" class=\"data row20 col3\" >0</td>\n",
       "      <td id=\"T_66992_row20_col4\" class=\"data row20 col4\" >0</td>\n",
       "      <td id=\"T_66992_row20_col5\" class=\"data row20 col5\" >0</td>\n",
       "      <td id=\"T_66992_row20_col6\" class=\"data row20 col6\" >0</td>\n",
       "      <td id=\"T_66992_row20_col7\" class=\"data row20 col7\" >0</td>\n",
       "      <td id=\"T_66992_row20_col8\" class=\"data row20 col8\" >0</td>\n",
       "      <td id=\"T_66992_row20_col9\" class=\"data row20 col9\" >0</td>\n",
       "      <td id=\"T_66992_row20_col10\" class=\"data row20 col10\" >0</td>\n",
       "      <td id=\"T_66992_row20_col11\" class=\"data row20 col11\" >0</td>\n",
       "      <td id=\"T_66992_row20_col12\" class=\"data row20 col12\" >0</td>\n",
       "      <td id=\"T_66992_row20_col13\" class=\"data row20 col13\" >0</td>\n",
       "    </tr>\n",
       "    <tr>\n",
       "      <th id=\"T_66992_level0_row21\" class=\"row_heading level0 row21\" >21</th>\n",
       "      <td id=\"T_66992_row21_col0\" class=\"data row21 col0\" >0</td>\n",
       "      <td id=\"T_66992_row21_col1\" class=\"data row21 col1\" >0</td>\n",
       "      <td id=\"T_66992_row21_col2\" class=\"data row21 col2\" >0</td>\n",
       "      <td id=\"T_66992_row21_col3\" class=\"data row21 col3\" >0</td>\n",
       "      <td id=\"T_66992_row21_col4\" class=\"data row21 col4\" >0</td>\n",
       "      <td id=\"T_66992_row21_col5\" class=\"data row21 col5\" >0</td>\n",
       "      <td id=\"T_66992_row21_col6\" class=\"data row21 col6\" >0</td>\n",
       "      <td id=\"T_66992_row21_col7\" class=\"data row21 col7\" >0</td>\n",
       "      <td id=\"T_66992_row21_col8\" class=\"data row21 col8\" >0</td>\n",
       "      <td id=\"T_66992_row21_col9\" class=\"data row21 col9\" >0</td>\n",
       "      <td id=\"T_66992_row21_col10\" class=\"data row21 col10\" >0</td>\n",
       "      <td id=\"T_66992_row21_col11\" class=\"data row21 col11\" >0</td>\n",
       "      <td id=\"T_66992_row21_col12\" class=\"data row21 col12\" >0</td>\n",
       "      <td id=\"T_66992_row21_col13\" class=\"data row21 col13\" >0</td>\n",
       "    </tr>\n",
       "  </tbody>\n",
       "</table>\n"
      ],
      "text/plain": [
       "<pandas.io.formats.style.Styler at 0x7f91e7cc3b50>"
      ]
     },
     "execution_count": 16,
     "metadata": {},
     "output_type": "execute_result"
    }
   ],
   "source": [
    "im0_t = tensor(im0)\n",
    "df = pd.DataFrame(im0_t[6:30,6:20])\n",
    "df.style.set_properties(**{'font-size':'6pt'}).background_gradient('Greys')"
   ]
  },
  {
   "cell_type": "markdown",
   "id": "0d60a5ca-af00-4c8d-9bef-fc817186c0a4",
   "metadata": {},
   "source": [
    "## convert images into tensors"
   ]
  },
  {
   "cell_type": "code",
   "execution_count": 17,
   "id": "84ad12c6-5d60-4d82-84f7-50f7722bf64e",
   "metadata": {},
   "outputs": [],
   "source": [
    "digit_tensor = tensor(Image.open(digit_paths[0][0]))"
   ]
  },
  {
   "cell_type": "code",
   "execution_count": 18,
   "id": "72d3258c-29b5-4c17-821d-74e3ec10f61f",
   "metadata": {},
   "outputs": [
    {
     "data": {
      "text/plain": [
       "5923"
      ]
     },
     "execution_count": 18,
     "metadata": {},
     "output_type": "execute_result"
    }
   ],
   "source": [
    "len(digit_paths[0])"
   ]
  },
  {
   "cell_type": "code",
   "execution_count": 19,
   "id": "e9f4a288-5e72-4e80-aa71-72e7c1a6a19f",
   "metadata": {},
   "outputs": [
    {
     "data": {
      "text/plain": [
       "torch.Size([28, 28])"
      ]
     },
     "execution_count": 19,
     "metadata": {},
     "output_type": "execute_result"
    }
   ],
   "source": [
    "digit_tensor.size()"
   ]
  },
  {
   "cell_type": "code",
   "execution_count": 20,
   "id": "57f057bb-9f22-4f11-ac8e-fc4a2f49c346",
   "metadata": {},
   "outputs": [
    {
     "data": {
      "text/plain": [
       "<matplotlib.image.AxesImage at 0x7f91e7a7f890>"
      ]
     },
     "execution_count": 20,
     "metadata": {},
     "output_type": "execute_result"
    },
    {
     "data": {
      "image/png": "[encoded data removed]",
      "text/plain": [
       "<Figure size 432x288 with 1 Axes>"
      ]
     },
     "metadata": {
      "needs_background": "light"
     },
     "output_type": "display_data"
    }
   ],
   "source": [
    "plt.imshow(digit_tensor)"
   ]
  },
  {
   "cell_type": "code",
   "execution_count": 21,
   "id": "a6f47d39-b071-41ae-8e40-a3b32a894bf1",
   "metadata": {},
   "outputs": [
    {
     "name": "stdout",
     "output_type": "stream",
     "text": [
      "loop 0\n",
      "   inner loop 0\n",
      "   inner loop 1000\n",
      "   inner loop 2000\n",
      "   inner loop 3000\n",
      "   inner loop 4000\n",
      "   inner loop 5000\n",
      "loop 1\n",
      "   inner loop 0\n",
      "   inner loop 1000\n",
      "   inner loop 2000\n",
      "   inner loop 3000\n",
      "   inner loop 4000\n",
      "   inner loop 5000\n",
      "   inner loop 6000\n",
      "loop 2\n",
      "   inner loop 0\n",
      "   inner loop 1000\n",
      "   inner loop 2000\n",
      "   inner loop 3000\n",
      "   inner loop 4000\n",
      "   inner loop 5000\n",
      "loop 3\n",
      "   inner loop 0\n",
      "   inner loop 1000\n",
      "   inner loop 2000\n",
      "   inner loop 3000\n",
      "   inner loop 4000\n",
      "   inner loop 5000\n",
      "   inner loop 6000\n",
      "loop 4\n",
      "   inner loop 0\n",
      "   inner loop 1000\n",
      "   inner loop 2000\n",
      "   inner loop 3000\n",
      "   inner loop 4000\n",
      "   inner loop 5000\n",
      "loop 5\n",
      "   inner loop 0\n",
      "   inner loop 1000\n",
      "   inner loop 2000\n",
      "   inner loop 3000\n",
      "   inner loop 4000\n",
      "   inner loop 5000\n",
      "loop 6\n",
      "   inner loop 0\n",
      "   inner loop 1000\n",
      "   inner loop 2000\n",
      "   inner loop 3000\n",
      "   inner loop 4000\n",
      "   inner loop 5000\n",
      "loop 7\n",
      "   inner loop 0\n",
      "   inner loop 1000\n",
      "   inner loop 2000\n",
      "   inner loop 3000\n",
      "   inner loop 4000\n",
      "   inner loop 5000\n",
      "   inner loop 6000\n",
      "loop 8\n",
      "   inner loop 0\n",
      "   inner loop 1000\n",
      "   inner loop 2000\n",
      "   inner loop 3000\n",
      "   inner loop 4000\n",
      "   inner loop 5000\n",
      "loop 9\n",
      "   inner loop 0\n",
      "   inner loop 1000\n",
      "   inner loop 2000\n",
      "   inner loop 3000\n",
      "   inner loop 4000\n",
      "   inner loop 5000\n"
     ]
    }
   ],
   "source": [
    "for i in range(len(digit_paths)):\n",
    "    print(\"loop {}\".format(i))\n",
    "    for j in range(len(digit_paths[i])):\n",
    "        if j%1000==0:\n",
    "            print(\"   inner loop {}\".format(j))                   "
   ]
  },
  {
   "cell_type": "code",
   "execution_count": 22,
   "id": "51521baf-163f-4356-bee0-81059676cd24",
   "metadata": {},
   "outputs": [
    {
     "name": "stdout",
     "output_type": "stream",
     "text": [
      "loop 0\n",
      "   inner loop 0\n",
      "   inner loop 1000\n",
      "   inner loop 2000\n",
      "   inner loop 3000\n",
      "   inner loop 4000\n",
      "   inner loop 5000\n",
      "loop 1\n",
      "   inner loop 0\n",
      "   inner loop 1000\n",
      "   inner loop 2000\n",
      "   inner loop 3000\n",
      "   inner loop 4000\n",
      "   inner loop 5000\n",
      "   inner loop 6000\n",
      "loop 2\n",
      "   inner loop 0\n",
      "   inner loop 1000\n",
      "   inner loop 2000\n",
      "   inner loop 3000\n",
      "   inner loop 4000\n",
      "   inner loop 5000\n",
      "loop 3\n",
      "   inner loop 0\n",
      "   inner loop 1000\n",
      "   inner loop 2000\n",
      "   inner loop 3000\n",
      "   inner loop 4000\n",
      "   inner loop 5000\n",
      "   inner loop 6000\n",
      "loop 4\n",
      "   inner loop 0\n",
      "   inner loop 1000\n",
      "   inner loop 2000\n",
      "   inner loop 3000\n",
      "   inner loop 4000\n",
      "   inner loop 5000\n",
      "loop 5\n",
      "   inner loop 0\n",
      "   inner loop 1000\n",
      "   inner loop 2000\n",
      "   inner loop 3000\n",
      "   inner loop 4000\n",
      "   inner loop 5000\n",
      "loop 6\n",
      "   inner loop 0\n",
      "   inner loop 1000\n",
      "   inner loop 2000\n",
      "   inner loop 3000\n",
      "   inner loop 4000\n",
      "   inner loop 5000\n",
      "loop 7\n",
      "   inner loop 0\n",
      "   inner loop 1000\n",
      "   inner loop 2000\n",
      "   inner loop 3000\n",
      "   inner loop 4000\n",
      "   inner loop 5000\n",
      "   inner loop 6000\n",
      "loop 8\n",
      "   inner loop 0\n",
      "   inner loop 1000\n",
      "   inner loop 2000\n",
      "   inner loop 3000\n",
      "   inner loop 4000\n",
      "   inner loop 5000\n",
      "loop 9\n",
      "   inner loop 0\n",
      "   inner loop 1000\n",
      "   inner loop 2000\n",
      "   inner loop 3000\n",
      "   inner loop 4000\n",
      "   inner loop 5000\n"
     ]
    }
   ],
   "source": [
    "# my first go... :-|\n",
    "# ouch?!\n",
    "\n",
    "for i in range(len(digit_paths)):\n",
    "    print(\"loop {}\".format(i))\n",
    "    for j in range(len(digit_paths[i])):\n",
    "        if j%1000==0:\n",
    "            print(\"   inner loop {}\".format(j))\n",
    "        digit_tensors = tensor(Image.open(digit_paths[i][j]))"
   ]
  },
  {
   "cell_type": "code",
   "execution_count": 23,
   "id": "4375fc46-ea57-4957-82da-cc46d7c62274",
   "metadata": {},
   "outputs": [
    {
     "data": {
      "text/plain": [
       "torch.Size([28, 28])"
      ]
     },
     "execution_count": 23,
     "metadata": {},
     "output_type": "execute_result"
    }
   ],
   "source": [
    "digit_tensors.size()\n",
    "# not quite what we want..."
   ]
  },
  {
   "cell_type": "code",
   "execution_count": 24,
   "id": "791b937f-4983-4ed0-a3cd-c0afbc593ce4",
   "metadata": {},
   "outputs": [],
   "source": [
    "# rewriting loops in a more pythonic way...\n",
    "\n",
    "#for i in range(len(digit_paths)):\n",
    "#    print(\"loop {}\".format(i))\n",
    "#    for j in range(len(digit_paths[i])):\n",
    "#        if j%1000==0:\n",
    "#            print(\"   inner loop {}\".format(j))\n",
    "\n",
    "list = [ i for i in range(len(digit_paths)) ]\n",
    "\n",
    "# ok, so to write for loop in this style, it needs to be in a list (or tensor, or whatever)\n",
    "# aka list comprehension"
   ]
  },
  {
   "cell_type": "code",
   "execution_count": 25,
   "id": "f15a639c-da1f-4b42-8072-c866133b159a",
   "metadata": {},
   "outputs": [
    {
     "data": {
      "text/plain": [
       "([0, 1, 2, 3, 4, 5, 6, 7, 8, 9], 10)"
      ]
     },
     "execution_count": 25,
     "metadata": {},
     "output_type": "execute_result"
    }
   ],
   "source": [
    "list, len(list)"
   ]
  },
  {
   "cell_type": "code",
   "execution_count": 26,
   "id": "e727fe63-91e9-4b87-b27b-e49e50fe82d4",
   "metadata": {},
   "outputs": [],
   "source": [
    "digit_tensors = [ \n",
    "    [tensor(Image.open(f)) for f in path] \n",
    "    for path in digit_paths \n",
    "]"
   ]
  },
  {
   "cell_type": "code",
   "execution_count": 27,
   "id": "a5dd9710-5bbb-4465-a8ee-73c817b9ce79",
   "metadata": {},
   "outputs": [
    {
     "name": "stdout",
     "output_type": "stream",
     "text": [
      "the size of the list is: 10\n",
      "size of 0 is 5923 of type <class 'list'> with shape (5923,)\n",
      "   size of the items in list is torch.Size([28, 28])\n",
      "size of 1 is 6742 of type <class 'list'> with shape (6742,)\n",
      "   size of the items in list is torch.Size([28, 28])\n",
      "size of 2 is 5958 of type <class 'list'> with shape (5958,)\n",
      "   size of the items in list is torch.Size([28, 28])\n",
      "size of 3 is 6131 of type <class 'list'> with shape (6131,)\n",
      "   size of the items in list is torch.Size([28, 28])\n",
      "size of 4 is 5842 of type <class 'list'> with shape (5842,)\n",
      "   size of the items in list is torch.Size([28, 28])\n",
      "size of 5 is 5421 of type <class 'list'> with shape (5421,)\n",
      "   size of the items in list is torch.Size([28, 28])\n",
      "size of 6 is 5918 of type <class 'list'> with shape (5918,)\n",
      "   size of the items in list is torch.Size([28, 28])\n",
      "size of 7 is 6265 of type <class 'list'> with shape (6265,)\n",
      "   size of the items in list is torch.Size([28, 28])\n",
      "size of 8 is 5851 of type <class 'list'> with shape (5851,)\n",
      "   size of the items in list is torch.Size([28, 28])\n",
      "size of 9 is 5949 of type <class 'list'> with shape (5949,)\n",
      "   size of the items in list is torch.Size([28, 28])\n"
     ]
    },
    {
     "name": "stderr",
     "output_type": "stream",
     "text": [
      "/anaconda/envs/fastai2/lib/python3.7/site-packages/numpy/core/fromnumeric.py:1970: FutureWarning: The input object of type 'Tensor' is an array-like implementing one of the corresponding protocols (`__array__`, `__array_interface__` or `__array_struct__`); but not a sequence (or 0-D). In the future, this object will be coerced as if it was first converted using `np.array(obj)`. To retain the old behaviour, you have to either modify the type 'Tensor', or assign to an empty array created with `np.empty(correct_shape, dtype=object)`.\n",
      "  result = asarray(a).shape\n",
      "/anaconda/envs/fastai2/lib/python3.7/site-packages/numpy/core/fromnumeric.py:1970: VisibleDeprecationWarning: Creating an ndarray from ragged nested sequences (which is a list-or-tuple of lists-or-tuples-or ndarrays with different lengths or shapes) is deprecated. If you meant to do this, you must specify 'dtype=object' when creating the ndarray.\n",
      "  result = asarray(a).shape\n"
     ]
    }
   ],
   "source": [
    "print (\"the size of the list is: {}\".format(len(digit_tensors)))\n",
    "for i in range(len(digit_tensors)):\n",
    "    print (\"size of {} is {} of type {} with shape {}\"\n",
    "           .format(i, len(digit_tensors[i]), type(digit_tensors[i]), np.shape(digit_tensors[i])))\n",
    "    print (\"   size of the items in list is {}\".format(digit_tensors[i][0].size()))\n"
   ]
  },
  {
   "cell_type": "code",
   "execution_count": 28,
   "id": "1ecb2259-002b-40a0-a9bf-e828aa0de1f5",
   "metadata": {},
   "outputs": [],
   "source": [
    "stacked_digits = [ torch.stack(digits).float()/255 for digits in digit_tensors ]"
   ]
  },
  {
   "cell_type": "code",
   "execution_count": 29,
   "id": "4bf84971-e9f0-47e4-aa6f-a5d2dcb97222",
   "metadata": {},
   "outputs": [
    {
     "data": {
      "text/plain": [
       "(10, 5923, torch.Size([5923, 28, 28]))"
      ]
     },
     "execution_count": 29,
     "metadata": {},
     "output_type": "execute_result"
    }
   ],
   "source": [
    "len(stacked_digits), len(stacked_digits[0]), stacked_digits[0].size()"
   ]
  },
  {
   "cell_type": "code",
   "execution_count": 30,
   "id": "877e3549-38b3-402e-9ebe-2c5dd12040db",
   "metadata": {},
   "outputs": [],
   "source": [
    "digits_x = torch.cat(stacked_digits)"
   ]
  },
  {
   "cell_type": "code",
   "execution_count": 31,
   "id": "4e47aa24-2bb6-49b0-94a9-2193a96d14f4",
   "metadata": {},
   "outputs": [
    {
     "data": {
      "text/plain": [
       "torch.Size([60000, 28, 28])"
      ]
     },
     "execution_count": 31,
     "metadata": {},
     "output_type": "execute_result"
    }
   ],
   "source": [
    "digits_x.size()"
   ]
  },
  {
   "cell_type": "code",
   "execution_count": 32,
   "id": "488f689a-aa97-40c9-896c-ac1502b36fc9",
   "metadata": {},
   "outputs": [],
   "source": [
    "# thinking that \"view\" isn't really needed here, since it is already 28x28??\n",
    "# we seem to get the same result, although, view() reshapes the tensor without copying memory\n",
    "# so better from that perspective?\n",
    "\n",
    "digits_x = torch.cat(stacked_digits).view(-1, 28 * 28)\n",
    "\n",
    "# view is needed :)\n",
    "# we are \"reshaping\" from x,28,28 to x,28*28"
   ]
  },
  {
   "cell_type": "code",
   "execution_count": 33,
   "id": "8bea5285-5260-405d-bf74-d22f4944e4e2",
   "metadata": {},
   "outputs": [
    {
     "data": {
      "text/plain": [
       "torch.Size([60000, 784])"
      ]
     },
     "execution_count": 33,
     "metadata": {},
     "output_type": "execute_result"
    }
   ],
   "source": [
    "digits_x.size()"
   ]
  },
  {
   "cell_type": "code",
   "execution_count": 35,
   "id": "1ea0574c-6c28-416d-ba45-034439f1611e",
   "metadata": {},
   "outputs": [],
   "source": [
    "from itertools import chain\n",
    "\n",
    "del list\n",
    "\n",
    "digits_y = tensor(\n",
    "    list(chain.from_iterable([[i] * len(paths) for i, paths in enumerate(digit_paths)]))\n",
    ")"
   ]
  },
  {
   "cell_type": "code",
   "execution_count": 36,
   "id": "f18a84ab-f291-4eac-8fa5-80599c4d5562",
   "metadata": {},
   "outputs": [
    {
     "data": {
      "text/plain": [
       "[5923, 6742, 5958, 6131, 5842, 5421, 5918, 6265, 5851, 5949]"
      ]
     },
     "execution_count": 36,
     "metadata": {},
     "output_type": "execute_result"
    }
   ],
   "source": [
    "# let's break the above down\n",
    "[ len(paths) for i, paths in enumerate(digit_paths) ]"
   ]
  },
  {
   "cell_type": "code",
   "execution_count": 37,
   "id": "9473e641-d828-4467-9ec0-64b8b06b59a1",
   "metadata": {},
   "outputs": [],
   "source": [
    "digits_y = tensor(\n",
    "    list(chain.from_iterable([[i] * len(paths) for i, paths in enumerate(digit_paths)]))\n",
    ")"
   ]
  },
  {
   "cell_type": "code",
   "execution_count": 38,
   "id": "48b095a0-bda0-4ce2-8929-cffef67c8b7e",
   "metadata": {},
   "outputs": [
    {
     "data": {
      "text/plain": [
       "torch.Size([60000, 1])"
      ]
     },
     "execution_count": 38,
     "metadata": {},
     "output_type": "execute_result"
    }
   ],
   "source": [
    "digits_y.unsqueeze(1).size()"
   ]
  },
  {
   "cell_type": "code",
   "execution_count": 39,
   "id": "39690dd1-ab9f-4617-a094-1b9bb609428c",
   "metadata": {},
   "outputs": [
    {
     "data": {
      "text/plain": [
       "torch.Size([60000])"
      ]
     },
     "execution_count": 39,
     "metadata": {},
     "output_type": "execute_result"
    }
   ],
   "source": [
    "digits_y.size()"
   ]
  },
  {
   "cell_type": "code",
   "execution_count": 40,
   "id": "8f3e9a2a-38a7-4be1-8984-a3399d673117",
   "metadata": {},
   "outputs": [],
   "source": [
    "# get a dataset, so it can be loaded into DataLoader (a fastai library)\n",
    "\n",
    "dataset = list(zip(digits_x, digits_y))\n"
   ]
  },
  {
   "cell_type": "code",
   "execution_count": 41,
   "id": "e057db64-6886-4b98-ae91-362fc180cbb5",
   "metadata": {},
   "outputs": [
    {
     "data": {
      "text/plain": [
       "(60000, 2, torch.Size([]), list, tuple, torch.Tensor)"
      ]
     },
     "execution_count": 41,
     "metadata": {},
     "output_type": "execute_result"
    }
   ],
   "source": [
    "len(dataset), len(dataset[0]), dataset[0][1].size(), type(dataset), type(dataset[0]), type(dataset[0][1])"
   ]
  },
  {
   "cell_type": "code",
   "execution_count": 42,
   "id": "bfcf5162-47d2-45d7-bde6-7e01eda30b94",
   "metadata": {},
   "outputs": [
    {
     "data": {
      "text/plain": [
       "tensor(8)"
      ]
     },
     "execution_count": 42,
     "metadata": {},
     "output_type": "execute_result"
    }
   ],
   "source": [
    "dataset[50000][1]"
   ]
  },
  {
   "cell_type": "code",
   "execution_count": 43,
   "id": "1f8a5413-8f24-4450-94da-3adc2f76b2e1",
   "metadata": {},
   "outputs": [
    {
     "data": {
      "text/plain": [
       "torch.Size([])"
      ]
     },
     "execution_count": 43,
     "metadata": {},
     "output_type": "execute_result"
    }
   ],
   "source": [
    "dataset[50000][1].size()"
   ]
  },
  {
   "cell_type": "code",
   "execution_count": 44,
   "id": "507325ba-35ff-41cc-987a-2cdaa5ee5644",
   "metadata": {},
   "outputs": [],
   "source": [
    "f = tensor([8])"
   ]
  },
  {
   "cell_type": "code",
   "execution_count": 45,
   "id": "7203cd87-9911-428d-bd53-2c069cfe7f29",
   "metadata": {},
   "outputs": [
    {
     "data": {
      "text/plain": [
       "torch.Size([1])"
      ]
     },
     "execution_count": 45,
     "metadata": {},
     "output_type": "execute_result"
    }
   ],
   "source": [
    "f.size()"
   ]
  },
  {
   "cell_type": "code",
   "execution_count": 46,
   "id": "754d842c-786d-4699-97e0-e57b56f5a121",
   "metadata": {},
   "outputs": [],
   "source": [
    "# Create validation set\n",
    "mini_batch_size = 256\n",
    "valid_split = 0.2\n",
    "split_index = int(len(digits_x) * valid_split)\n",
    "shuffled_indices = torch.randperm(len(digits_x))\n",
    "train_indices, valid_indices = shuffled_indices[split_index:], shuffled_indices[:split_index]\n",
    "\n",
    "train_sampler = torch.utils.data.SubsetRandomSampler(train_indices)\n",
    "valid_sampler = torch.utils.data.SubsetRandomSampler(valid_indices)\n",
    "\n",
    "train_dataset = DataLoader(dataset, batch_size=mini_batch_size, sampler=train_sampler)\n",
    "valid_dataset = DataLoader(dataset, batch_size=mini_batch_size, sampler=valid_sampler)\n"
   ]
  },
  {
   "cell_type": "code",
   "execution_count": 47,
   "id": "9034d30d-5a17-4a25-9410-3f49ac8ef34f",
   "metadata": {},
   "outputs": [
    {
     "data": {
      "text/plain": [
       "12000"
      ]
     },
     "execution_count": 47,
     "metadata": {},
     "output_type": "execute_result"
    }
   ],
   "source": [
    "split_index"
   ]
  },
  {
   "cell_type": "code",
   "execution_count": 48,
   "id": "2a2f5c4a-25db-4c68-baf7-b00cceab80a9",
   "metadata": {},
   "outputs": [
    {
     "data": {
      "text/plain": [
       "(torch.Tensor, torch.Size([60000]))"
      ]
     },
     "execution_count": 48,
     "metadata": {},
     "output_type": "execute_result"
    }
   ],
   "source": [
    "type(shuffled_indices), shuffled_indices.size()"
   ]
  },
  {
   "cell_type": "code",
   "execution_count": 49,
   "id": "a89d6c98-f16f-48cd-8490-dd29db78d2b9",
   "metadata": {},
   "outputs": [
    {
     "data": {
      "text/plain": [
       "torch.utils.data.sampler.SubsetRandomSampler"
      ]
     },
     "execution_count": 49,
     "metadata": {},
     "output_type": "execute_result"
    }
   ],
   "source": [
    "type(train_sampler)"
   ]
  },
  {
   "cell_type": "code",
   "execution_count": 50,
   "id": "bf89db61-6f4d-4f4b-b638-e9276e4d99fc",
   "metadata": {},
   "outputs": [],
   "source": [
    "# set up the testing dataset\n",
    "\n",
    "# get the file listing\n",
    "\n",
    "digit_files_all = [ (path/\"testing\"/str(digit)).ls().sorted() for digit in range(10) ]\n",
    "\n",
    "# convert to tensors\n",
    "\n",
    "image_tensors = [ \n",
    "    [ tensor(Image.open(f)) for f in files ] \n",
    "    for files in digit_files_all \n",
    "]\n",
    "\n",
    "# stack them up\n",
    "\n",
    "images_stacked = \n",
    "\n",
    "# flattern x out\n",
    "\n",
    "# construct y\n",
    "\n",
    "# craete the dataset and split into batches using DataLoader\n",
    "\n"
   ]
  },
  {
   "cell_type": "code",
   "execution_count": 52,
   "id": "d755fb1b-6a8a-4881-a079-fb97decd6681",
   "metadata": {},
   "outputs": [
    {
     "data": {
      "text/plain": [
       "(list, 10, fastcore.foundation.L, 980, 1135)"
      ]
     },
     "execution_count": 52,
     "metadata": {},
     "output_type": "execute_result"
    }
   ],
   "source": [
    "type(digit_files_all), len(digit_files_all), type(digit_files_all[0]), len(digit_files_all[0]), len(digit_files_all[1])"
   ]
  },
  {
   "cell_type": "code",
   "execution_count": null,
   "id": "e6439eb2-2044-4df3-bb01-2bde89caf102",
   "metadata": {},
   "outputs": [],
   "source": []
  },
  {
   "cell_type": "code",
   "execution_count": null,
   "id": "c9a6a09b-eba3-4ff8-88d4-8833b838609e",
   "metadata": {},
   "outputs": [],
   "source": [
    "def init_params(size, std=1):\n",
    "    return (torch.randn(size)*std).requires_grad_()"
   ]
  },
  {
   "cell_type": "code",
   "execution_count": null,
   "id": "e07f346c-324f-4409-9e51-37a3bd01df3a",
   "metadata": {},
   "outputs": [],
   "source": [
    "#initialize the parameters\n",
    "\n",
    "weights = init_params((28*28,1))\n",
    "bias = init_params(1)"
   ]
  },
  {
   "cell_type": "code",
   "execution_count": null,
   "id": "85b9ccdc-c3a3-4aa3-8a95-df7cd78df7a6",
   "metadata": {},
   "outputs": [],
   "source": [
    "weights.size()"
   ]
  },
  {
   "cell_type": "code",
   "execution_count": null,
   "id": "f54b0891-70ad-46e5-8658-f24983f26747",
   "metadata": {},
   "outputs": [],
   "source": [
    "def predict(xt, wt, b):\n",
    "    return xt@wt + b"
   ]
  },
  {
   "cell_type": "code",
   "execution_count": null,
   "id": "5527679a-c81f-475f-9053-5ef21391c6a3",
   "metadata": {},
   "outputs": [],
   "source": [
    "digits_x.size(), weights.size(), bias.size()"
   ]
  },
  {
   "cell_type": "code",
   "execution_count": null,
   "id": "d38041c1-a9fe-4406-8e2d-ba8daec48957",
   "metadata": {},
   "outputs": [],
   "source": [
    "train_dataset._methods"
   ]
  },
  {
   "cell_type": "code",
   "execution_count": null,
   "id": "bdd0c313-e641-46db-a771-a3c0d277be18",
   "metadata": {},
   "outputs": [],
   "source": [
    "??train_dataset"
   ]
  },
  {
   "cell_type": "code",
   "execution_count": null,
   "id": "b8e96781-2418-4d5e-a27d-d3f2be105bd1",
   "metadata": {},
   "outputs": [],
   "source": [
    "# the number of batches\n",
    "train_dataset.__len__()"
   ]
  },
  {
   "cell_type": "code",
   "execution_count": null,
   "id": "72eac9ef-a615-4103-a854-051ffa6d82d4",
   "metadata": {},
   "outputs": [],
   "source": [
    "# get one batch to try..\n",
    "x_t, y_t = train_dataset.one_batch()"
   ]
  },
  {
   "cell_type": "code",
   "execution_count": null,
   "id": "a4d652be-4469-46fa-889f-4c7867602d58",
   "metadata": {},
   "outputs": [],
   "source": [
    "pred = predict(x_t, weights, bias)"
   ]
  },
  {
   "cell_type": "code",
   "execution_count": null,
   "id": "9e1983d1-daf1-44e9-b809-68c1943edc94",
   "metadata": {},
   "outputs": [],
   "source": [
    "# batch size of 256\n",
    "pred.size()"
   ]
  },
  {
   "cell_type": "code",
   "execution_count": null,
   "id": "ccead17b-b73f-4687-8675-403cfe65cf66",
   "metadata": {},
   "outputs": [],
   "source": [
    "i=0\n",
    "for x_train, y_train in train_dataset:\n",
    "    print (\"i is {}\".format(i))\n",
    "    print (\"x size is {}\".format(x_train.size()))\n",
    "    print (\"y size is {}\".format(y_train.size()))\n",
    "    i=i+1"
   ]
  },
  {
   "cell_type": "code",
   "execution_count": null,
   "id": "1fab8313-7384-4f9a-a0f4-95fc4ffce979",
   "metadata": {},
   "outputs": [],
   "source": [
    "pred.size()"
   ]
  },
  {
   "cell_type": "code",
   "execution_count": null,
   "id": "3d7b255a-cf00-4c53-801e-cc06fc781062",
   "metadata": {},
   "outputs": [],
   "source": []
  }
 ],
 "metadata": {
  "kernelspec": {
   "display_name": "fastai2",
   "language": "python",
   "name": "conda-env-fastai2-py"
  },
  "language_info": {
   "codemirror_mode": {
    "name": "ipython",
    "version": 3
   },
   "file_extension": ".py",
   "mimetype": "text/x-python",
   "name": "python",
   "nbconvert_exporter": "python",
   "pygments_lexer": "ipython3",
   "version": "3.7.13"
  }
 },
 "nbformat": 4,
 "nbformat_minor": 5
}
