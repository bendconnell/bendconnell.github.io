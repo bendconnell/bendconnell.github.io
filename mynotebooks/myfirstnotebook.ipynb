{
 "cells": [
  {
   "cell_type": "code",
   "execution_count": 1,
   "id": "b649639b-59c2-440a-8b18-9ca378054a94",
   "metadata": {},
   "outputs": [],
   "source": [
    "## my first notebook"
   ]
  },
  {
   "cell_type": "code",
   "execution_count": null,
   "id": "ca1368d8-ccf9-43ac-84f0-99c6a538d1d1",
   "metadata": {},
   "outputs": [],
   "source": []
  }
 ],
 "metadata": {
  "kernelspec": {
   "display_name": "fastai2",
   "language": "python",
   "name": "conda-env-fastai2-py"
  },
  "language_info": {
   "codemirror_mode": {
    "name": "ipython",
    "version": 3
   },
   "file_extension": ".py",
   "mimetype": "text/x-python",
   "name": "python",
   "nbconvert_exporter": "python",
   "pygments_lexer": "ipython3",
   "version": "3.7.13"
  }
 },
 "nbformat": 4,
 "nbformat_minor": 5
}
